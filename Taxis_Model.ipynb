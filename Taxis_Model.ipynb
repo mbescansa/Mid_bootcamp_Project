{
 "cells": [
  {
   "cell_type": "markdown",
   "id": "figured-courtesy",
   "metadata": {},
   "source": [
    "**1. Get data**\n",
    "\n",
    "**2. Exploration**\n",
    "    \n",
    "    head, shape, info\n",
    "    columns - rename? \n",
    "    dtypes - change formats?\n",
    "    nulls - drop nulls?\n",
    "    drop columns?\n",
    "    \n",
    "    numerical variables\n",
    "        continuous/ discrete?\n",
    "        plot distributions\n",
    "        plot outliers - decide\n",
    "        correlation matrix\n",
    "    \n",
    "    categorical variables\n",
    "        plot\n",
    "        value counts\n",
    "        contingency tables\n",
    "        \n",
    "    get final dataset before jumping into the model\n",
    "        \n",
    "**3. Prepare train and test data set**\n"
   ]
  },
  {
   "cell_type": "markdown",
   "id": "coral-faculty",
   "metadata": {},
   "source": [
    "## DATA PREPARATION"
   ]
  },
  {
   "cell_type": "markdown",
   "id": "second-blade",
   "metadata": {},
   "source": [
    "### Get basic info about the data"
   ]
  },
  {
   "cell_type": "code",
   "execution_count": 68,
   "id": "brazilian-vector",
   "metadata": {},
   "outputs": [],
   "source": [
    "import pandas as pd\n",
    "import seaborn as sns\n",
    "import matplotlib.pyplot as plt\n",
    "import numpy as np\n",
    "import scipy.stats as st\n",
    "from sklearn import preprocessing\n",
    "from sklearn.preprocessing import OneHotEncoder\n",
    "from sklearn.preprocessing import StandardScaler\n",
    "from sklearn.preprocessing import RobustScaler\n",
    "from sklearn import linear_model\n",
    "from sklearn.neural_network import MLPRegressor\n",
    "from sklearn.neighbors import KNeighborsRegressor\n",
    "\n",
    "from sklearn.datasets import make_regression\n",
    "import datetime\n",
    "from time import time\n",
    "import re\n",
    "import math\n",
    "from sklearn.metrics import mean_squared_error, r2_score"
   ]
  },
  {
   "cell_type": "code",
   "execution_count": 69,
   "id": "starting-potato",
   "metadata": {},
   "outputs": [],
   "source": [
    "# To make run all you ask in one cell, not only the last required\n",
    "from IPython.core.interactiveshell import InteractiveShell\n",
    "InteractiveShell.ast_node_interactivity = \"all\""
   ]
  },
  {
   "cell_type": "code",
   "execution_count": 70,
   "id": "spatial-morris",
   "metadata": {},
   "outputs": [],
   "source": [
    "pd.options.display.float_format = '{:,.4f}'.format"
   ]
  },
  {
   "cell_type": "code",
   "execution_count": 71,
   "id": "organized-stage",
   "metadata": {},
   "outputs": [
    {
     "name": "stderr",
     "output_type": "stream",
     "text": [
      "C:\\Users\\besca\\anaconda3\\lib\\site-packages\\IPython\\core\\interactiveshell.py:3166: DtypeWarning: Columns (6) have mixed types.Specify dtype option on import or set low_memory=False.\n",
      "  interactivity=interactivity, compiler=compiler, result=result)\n"
     ]
    },
    {
     "data": {
      "text/html": [
       "<div>\n",
       "<style scoped>\n",
       "    .dataframe tbody tr th:only-of-type {\n",
       "        vertical-align: middle;\n",
       "    }\n",
       "\n",
       "    .dataframe tbody tr th {\n",
       "        vertical-align: top;\n",
       "    }\n",
       "\n",
       "    .dataframe thead th {\n",
       "        text-align: right;\n",
       "    }\n",
       "</style>\n",
       "<table border=\"1\" class=\"dataframe\">\n",
       "  <thead>\n",
       "    <tr style=\"text-align: right;\">\n",
       "      <th></th>\n",
       "      <th>VendorID</th>\n",
       "      <th>tpep_pickup_datetime</th>\n",
       "      <th>tpep_dropoff_datetime</th>\n",
       "      <th>passenger_count</th>\n",
       "      <th>trip_distance</th>\n",
       "      <th>RatecodeID</th>\n",
       "      <th>store_and_fwd_flag</th>\n",
       "      <th>PULocationID</th>\n",
       "      <th>DOLocationID</th>\n",
       "      <th>payment_type</th>\n",
       "      <th>fare_amount</th>\n",
       "      <th>extra</th>\n",
       "      <th>mta_tax</th>\n",
       "      <th>tip_amount</th>\n",
       "      <th>tolls_amount</th>\n",
       "      <th>improvement_surcharge</th>\n",
       "      <th>total_amount</th>\n",
       "      <th>congestion_surcharge</th>\n",
       "    </tr>\n",
       "  </thead>\n",
       "  <tbody>\n",
       "    <tr>\n",
       "      <th>0</th>\n",
       "      <td>1.0000</td>\n",
       "      <td>2019-08-01 00:09:46</td>\n",
       "      <td>2019-08-01 00:10:36</td>\n",
       "      <td>1.0000</td>\n",
       "      <td>0.0000</td>\n",
       "      <td>1.0000</td>\n",
       "      <td>N</td>\n",
       "      <td>145</td>\n",
       "      <td>145</td>\n",
       "      <td>2.0000</td>\n",
       "      <td>2.5000</td>\n",
       "      <td>0.5000</td>\n",
       "      <td>0.5000</td>\n",
       "      <td>0.0000</td>\n",
       "      <td>0.0000</td>\n",
       "      <td>0.3000</td>\n",
       "      <td>3.8000</td>\n",
       "      <td>0.0000</td>\n",
       "    </tr>\n",
       "    <tr>\n",
       "      <th>1</th>\n",
       "      <td>1.0000</td>\n",
       "      <td>2019-08-01 00:30:47</td>\n",
       "      <td>2019-08-01 00:31:39</td>\n",
       "      <td>1.0000</td>\n",
       "      <td>0.0000</td>\n",
       "      <td>1.0000</td>\n",
       "      <td>N</td>\n",
       "      <td>145</td>\n",
       "      <td>145</td>\n",
       "      <td>2.0000</td>\n",
       "      <td>2.5000</td>\n",
       "      <td>0.5000</td>\n",
       "      <td>0.5000</td>\n",
       "      <td>0.0000</td>\n",
       "      <td>0.0000</td>\n",
       "      <td>0.3000</td>\n",
       "      <td>3.8000</td>\n",
       "      <td>0.0000</td>\n",
       "    </tr>\n",
       "    <tr>\n",
       "      <th>2</th>\n",
       "      <td>1.0000</td>\n",
       "      <td>2019-08-01 00:44:50</td>\n",
       "      <td>2019-08-01 00:46:32</td>\n",
       "      <td>1.0000</td>\n",
       "      <td>7.1000</td>\n",
       "      <td>1.0000</td>\n",
       "      <td>N</td>\n",
       "      <td>145</td>\n",
       "      <td>145</td>\n",
       "      <td>2.0000</td>\n",
       "      <td>3.0000</td>\n",
       "      <td>0.5000</td>\n",
       "      <td>0.5000</td>\n",
       "      <td>0.0000</td>\n",
       "      <td>0.0000</td>\n",
       "      <td>0.3000</td>\n",
       "      <td>4.3000</td>\n",
       "      <td>0.0000</td>\n",
       "    </tr>\n",
       "    <tr>\n",
       "      <th>3</th>\n",
       "      <td>1.0000</td>\n",
       "      <td>2019-08-01 00:57:16</td>\n",
       "      <td>2019-08-01 00:58:20</td>\n",
       "      <td>1.0000</td>\n",
       "      <td>0.0000</td>\n",
       "      <td>1.0000</td>\n",
       "      <td>N</td>\n",
       "      <td>145</td>\n",
       "      <td>145</td>\n",
       "      <td>2.0000</td>\n",
       "      <td>3.0000</td>\n",
       "      <td>0.5000</td>\n",
       "      <td>0.5000</td>\n",
       "      <td>0.0000</td>\n",
       "      <td>0.0000</td>\n",
       "      <td>0.3000</td>\n",
       "      <td>4.3000</td>\n",
       "      <td>0.0000</td>\n",
       "    </tr>\n",
       "    <tr>\n",
       "      <th>4</th>\n",
       "      <td>1.0000</td>\n",
       "      <td>2019-08-01 00:59:18</td>\n",
       "      <td>2019-08-01 01:04:13</td>\n",
       "      <td>1.0000</td>\n",
       "      <td>0.0000</td>\n",
       "      <td>1.0000</td>\n",
       "      <td>N</td>\n",
       "      <td>145</td>\n",
       "      <td>145</td>\n",
       "      <td>2.0000</td>\n",
       "      <td>4.5000</td>\n",
       "      <td>0.5000</td>\n",
       "      <td>0.5000</td>\n",
       "      <td>0.0000</td>\n",
       "      <td>0.0000</td>\n",
       "      <td>0.3000</td>\n",
       "      <td>5.8000</td>\n",
       "      <td>0.0000</td>\n",
       "    </tr>\n",
       "  </tbody>\n",
       "</table>\n",
       "</div>"
      ],
      "text/plain": [
       "   VendorID tpep_pickup_datetime tpep_dropoff_datetime  passenger_count  \\\n",
       "0    1.0000  2019-08-01 00:09:46   2019-08-01 00:10:36           1.0000   \n",
       "1    1.0000  2019-08-01 00:30:47   2019-08-01 00:31:39           1.0000   \n",
       "2    1.0000  2019-08-01 00:44:50   2019-08-01 00:46:32           1.0000   \n",
       "3    1.0000  2019-08-01 00:57:16   2019-08-01 00:58:20           1.0000   \n",
       "4    1.0000  2019-08-01 00:59:18   2019-08-01 01:04:13           1.0000   \n",
       "\n",
       "   trip_distance  RatecodeID store_and_fwd_flag  PULocationID  DOLocationID  \\\n",
       "0         0.0000      1.0000                  N           145           145   \n",
       "1         0.0000      1.0000                  N           145           145   \n",
       "2         7.1000      1.0000                  N           145           145   \n",
       "3         0.0000      1.0000                  N           145           145   \n",
       "4         0.0000      1.0000                  N           145           145   \n",
       "\n",
       "   payment_type  fare_amount  extra  mta_tax  tip_amount  tolls_amount  \\\n",
       "0        2.0000       2.5000 0.5000   0.5000      0.0000        0.0000   \n",
       "1        2.0000       2.5000 0.5000   0.5000      0.0000        0.0000   \n",
       "2        2.0000       3.0000 0.5000   0.5000      0.0000        0.0000   \n",
       "3        2.0000       3.0000 0.5000   0.5000      0.0000        0.0000   \n",
       "4        2.0000       4.5000 0.5000   0.5000      0.0000        0.0000   \n",
       "\n",
       "   improvement_surcharge  total_amount  congestion_surcharge  \n",
       "0                 0.3000        3.8000                0.0000  \n",
       "1                 0.3000        3.8000                0.0000  \n",
       "2                 0.3000        4.3000                0.0000  \n",
       "3                 0.3000        4.3000                0.0000  \n",
       "4                 0.3000        5.8000                0.0000  "
      ]
     },
     "execution_count": 71,
     "metadata": {},
     "output_type": "execute_result"
    },
    {
     "data": {
      "text/plain": [
       "(6073357, 18)"
      ]
     },
     "execution_count": 71,
     "metadata": {},
     "output_type": "execute_result"
    }
   ],
   "source": [
    "data = pd.read_csv('yellow_tripdata_2019-08.csv')\n",
    "data.head()\n",
    "data.shape"
   ]
  },
  {
   "cell_type": "code",
   "execution_count": 72,
   "id": "wanted-emerald",
   "metadata": {},
   "outputs": [],
   "source": [
    "# data['PULocationID'].value_counts()\n",
    "# data['DOLocationID'].value_counts()"
   ]
  },
  {
   "cell_type": "markdown",
   "id": "lined-chocolate",
   "metadata": {},
   "source": [
    "### Formatting"
   ]
  },
  {
   "cell_type": "code",
   "execution_count": 73,
   "id": "upper-apache",
   "metadata": {},
   "outputs": [
    {
     "data": {
      "text/plain": [
       "VendorID                        float64\n",
       "tpep_pickup_datetime     datetime64[ns]\n",
       "tpep_dropoff_datetime    datetime64[ns]\n",
       "passenger_count                 float64\n",
       "trip_distance                   float64\n",
       "RatecodeID                       object\n",
       "store_and_fwd_flag               object\n",
       "PULocationID                      int64\n",
       "DOLocationID                      int64\n",
       "payment_type                     object\n",
       "fare_amount                     float64\n",
       "extra                           float64\n",
       "mta_tax                         float64\n",
       "tip_amount                      float64\n",
       "tolls_amount                    float64\n",
       "improvement_surcharge           float64\n",
       "total_amount                    float64\n",
       "congestion_surcharge            float64\n",
       "dtype: object"
      ]
     },
     "execution_count": 73,
     "metadata": {},
     "output_type": "execute_result"
    }
   ],
   "source": [
    "data = data.astype({'tpep_pickup_datetime':'datetime64','tpep_dropoff_datetime':'datetime64','RatecodeID':'object','payment_type':'object'})\n",
    "data.dtypes"
   ]
  },
  {
   "cell_type": "code",
   "execution_count": 74,
   "id": "greatest-parish",
   "metadata": {},
   "outputs": [],
   "source": [
    "# trip_distance: convert miles to km\n",
    "def convert_to_km(x):\n",
    "    conversion_factor = 0.62137119\n",
    "    return x/conversion_factor"
   ]
  },
  {
   "cell_type": "code",
   "execution_count": 75,
   "id": "alternative-questionnaire",
   "metadata": {},
   "outputs": [],
   "source": [
    "data['trip_distance'] = data['trip_distance'].apply(convert_to_km)"
   ]
  },
  {
   "cell_type": "markdown",
   "id": "automotive-formation",
   "metadata": {},
   "source": [
    "#### Add column for trip duration in minutes"
   ]
  },
  {
   "cell_type": "code",
   "execution_count": 76,
   "id": "lesser-telescope",
   "metadata": {},
   "outputs": [
    {
     "data": {
      "text/plain": [
       "count   6,073,357.0000\n",
       "mean           17.4935\n",
       "std            73.4487\n",
       "min       -17,199.0000\n",
       "25%             6.0000\n",
       "50%            11.0000\n",
       "75%            18.0000\n",
       "max        36,501.0000\n",
       "Name: trip_duration, dtype: float64"
      ]
     },
     "execution_count": 76,
     "metadata": {},
     "output_type": "execute_result"
    },
    {
     "data": {
      "text/html": [
       "<div>\n",
       "<style scoped>\n",
       "    .dataframe tbody tr th:only-of-type {\n",
       "        vertical-align: middle;\n",
       "    }\n",
       "\n",
       "    .dataframe tbody tr th {\n",
       "        vertical-align: top;\n",
       "    }\n",
       "\n",
       "    .dataframe thead th {\n",
       "        text-align: right;\n",
       "    }\n",
       "</style>\n",
       "<table border=\"1\" class=\"dataframe\">\n",
       "  <thead>\n",
       "    <tr style=\"text-align: right;\">\n",
       "      <th></th>\n",
       "      <th>VendorID</th>\n",
       "      <th>tpep_pickup_datetime</th>\n",
       "      <th>tpep_dropoff_datetime</th>\n",
       "      <th>passenger_count</th>\n",
       "      <th>trip_distance</th>\n",
       "      <th>RatecodeID</th>\n",
       "      <th>store_and_fwd_flag</th>\n",
       "      <th>PULocationID</th>\n",
       "      <th>DOLocationID</th>\n",
       "      <th>payment_type</th>\n",
       "      <th>fare_amount</th>\n",
       "      <th>extra</th>\n",
       "      <th>mta_tax</th>\n",
       "      <th>tip_amount</th>\n",
       "      <th>tolls_amount</th>\n",
       "      <th>improvement_surcharge</th>\n",
       "      <th>total_amount</th>\n",
       "      <th>congestion_surcharge</th>\n",
       "      <th>trip_duration</th>\n",
       "    </tr>\n",
       "  </thead>\n",
       "  <tbody>\n",
       "    <tr>\n",
       "      <th>0</th>\n",
       "      <td>1.0000</td>\n",
       "      <td>2019-08-01 00:09:46</td>\n",
       "      <td>2019-08-01 00:10:36</td>\n",
       "      <td>1.0000</td>\n",
       "      <td>0.0000</td>\n",
       "      <td>1.0</td>\n",
       "      <td>N</td>\n",
       "      <td>145</td>\n",
       "      <td>145</td>\n",
       "      <td>2.0</td>\n",
       "      <td>2.5000</td>\n",
       "      <td>0.5000</td>\n",
       "      <td>0.5000</td>\n",
       "      <td>0.0000</td>\n",
       "      <td>0.0000</td>\n",
       "      <td>0.3000</td>\n",
       "      <td>3.8000</td>\n",
       "      <td>0.0000</td>\n",
       "      <td>0.0000</td>\n",
       "    </tr>\n",
       "    <tr>\n",
       "      <th>1</th>\n",
       "      <td>1.0000</td>\n",
       "      <td>2019-08-01 00:30:47</td>\n",
       "      <td>2019-08-01 00:31:39</td>\n",
       "      <td>1.0000</td>\n",
       "      <td>0.0000</td>\n",
       "      <td>1.0</td>\n",
       "      <td>N</td>\n",
       "      <td>145</td>\n",
       "      <td>145</td>\n",
       "      <td>2.0</td>\n",
       "      <td>2.5000</td>\n",
       "      <td>0.5000</td>\n",
       "      <td>0.5000</td>\n",
       "      <td>0.0000</td>\n",
       "      <td>0.0000</td>\n",
       "      <td>0.3000</td>\n",
       "      <td>3.8000</td>\n",
       "      <td>0.0000</td>\n",
       "      <td>0.0000</td>\n",
       "    </tr>\n",
       "    <tr>\n",
       "      <th>2</th>\n",
       "      <td>1.0000</td>\n",
       "      <td>2019-08-01 00:44:50</td>\n",
       "      <td>2019-08-01 00:46:32</td>\n",
       "      <td>1.0000</td>\n",
       "      <td>11.4263</td>\n",
       "      <td>1.0</td>\n",
       "      <td>N</td>\n",
       "      <td>145</td>\n",
       "      <td>145</td>\n",
       "      <td>2.0</td>\n",
       "      <td>3.0000</td>\n",
       "      <td>0.5000</td>\n",
       "      <td>0.5000</td>\n",
       "      <td>0.0000</td>\n",
       "      <td>0.0000</td>\n",
       "      <td>0.3000</td>\n",
       "      <td>4.3000</td>\n",
       "      <td>0.0000</td>\n",
       "      <td>1.0000</td>\n",
       "    </tr>\n",
       "    <tr>\n",
       "      <th>3</th>\n",
       "      <td>1.0000</td>\n",
       "      <td>2019-08-01 00:57:16</td>\n",
       "      <td>2019-08-01 00:58:20</td>\n",
       "      <td>1.0000</td>\n",
       "      <td>0.0000</td>\n",
       "      <td>1.0</td>\n",
       "      <td>N</td>\n",
       "      <td>145</td>\n",
       "      <td>145</td>\n",
       "      <td>2.0</td>\n",
       "      <td>3.0000</td>\n",
       "      <td>0.5000</td>\n",
       "      <td>0.5000</td>\n",
       "      <td>0.0000</td>\n",
       "      <td>0.0000</td>\n",
       "      <td>0.3000</td>\n",
       "      <td>4.3000</td>\n",
       "      <td>0.0000</td>\n",
       "      <td>1.0000</td>\n",
       "    </tr>\n",
       "    <tr>\n",
       "      <th>4</th>\n",
       "      <td>1.0000</td>\n",
       "      <td>2019-08-01 00:59:18</td>\n",
       "      <td>2019-08-01 01:04:13</td>\n",
       "      <td>1.0000</td>\n",
       "      <td>0.0000</td>\n",
       "      <td>1.0</td>\n",
       "      <td>N</td>\n",
       "      <td>145</td>\n",
       "      <td>145</td>\n",
       "      <td>2.0</td>\n",
       "      <td>4.5000</td>\n",
       "      <td>0.5000</td>\n",
       "      <td>0.5000</td>\n",
       "      <td>0.0000</td>\n",
       "      <td>0.0000</td>\n",
       "      <td>0.3000</td>\n",
       "      <td>5.8000</td>\n",
       "      <td>0.0000</td>\n",
       "      <td>4.0000</td>\n",
       "    </tr>\n",
       "  </tbody>\n",
       "</table>\n",
       "</div>"
      ],
      "text/plain": [
       "   VendorID tpep_pickup_datetime tpep_dropoff_datetime  passenger_count  \\\n",
       "0    1.0000  2019-08-01 00:09:46   2019-08-01 00:10:36           1.0000   \n",
       "1    1.0000  2019-08-01 00:30:47   2019-08-01 00:31:39           1.0000   \n",
       "2    1.0000  2019-08-01 00:44:50   2019-08-01 00:46:32           1.0000   \n",
       "3    1.0000  2019-08-01 00:57:16   2019-08-01 00:58:20           1.0000   \n",
       "4    1.0000  2019-08-01 00:59:18   2019-08-01 01:04:13           1.0000   \n",
       "\n",
       "   trip_distance RatecodeID store_and_fwd_flag  PULocationID  DOLocationID  \\\n",
       "0         0.0000        1.0                  N           145           145   \n",
       "1         0.0000        1.0                  N           145           145   \n",
       "2        11.4263        1.0                  N           145           145   \n",
       "3         0.0000        1.0                  N           145           145   \n",
       "4         0.0000        1.0                  N           145           145   \n",
       "\n",
       "  payment_type  fare_amount  extra  mta_tax  tip_amount  tolls_amount  \\\n",
       "0          2.0       2.5000 0.5000   0.5000      0.0000        0.0000   \n",
       "1          2.0       2.5000 0.5000   0.5000      0.0000        0.0000   \n",
       "2          2.0       3.0000 0.5000   0.5000      0.0000        0.0000   \n",
       "3          2.0       3.0000 0.5000   0.5000      0.0000        0.0000   \n",
       "4          2.0       4.5000 0.5000   0.5000      0.0000        0.0000   \n",
       "\n",
       "   improvement_surcharge  total_amount  congestion_surcharge  trip_duration  \n",
       "0                 0.3000        3.8000                0.0000         0.0000  \n",
       "1                 0.3000        3.8000                0.0000         0.0000  \n",
       "2                 0.3000        4.3000                0.0000         1.0000  \n",
       "3                 0.3000        4.3000                0.0000         1.0000  \n",
       "4                 0.3000        5.8000                0.0000         4.0000  "
      ]
     },
     "execution_count": 76,
     "metadata": {},
     "output_type": "execute_result"
    }
   ],
   "source": [
    "# Add trip duration column\n",
    "\n",
    "data['trip_duration'] = (data['tpep_dropoff_datetime'] - data['tpep_pickup_datetime']).astype('timedelta64[m]')\n",
    "data['trip_duration'].describe()\n",
    "data.head()"
   ]
  },
  {
   "cell_type": "markdown",
   "id": "sunrise-brake",
   "metadata": {},
   "source": [
    "### Columns"
   ]
  },
  {
   "cell_type": "code",
   "execution_count": 77,
   "id": "cognitive-details",
   "metadata": {
    "scrolled": true
   },
   "outputs": [
    {
     "data": {
      "text/plain": [
       "VendorID                        float64\n",
       "tpep_pickup_datetime     datetime64[ns]\n",
       "tpep_dropoff_datetime    datetime64[ns]\n",
       "passenger_count                 float64\n",
       "trip_distance                   float64\n",
       "RatecodeID                       object\n",
       "store_and_fwd_flag               object\n",
       "PULocationID                      int64\n",
       "DOLocationID                      int64\n",
       "payment_type                     object\n",
       "fare_amount                     float64\n",
       "extra                           float64\n",
       "mta_tax                         float64\n",
       "tip_amount                      float64\n",
       "tolls_amount                    float64\n",
       "improvement_surcharge           float64\n",
       "total_amount                    float64\n",
       "congestion_surcharge            float64\n",
       "trip_duration                   float64\n",
       "dtype: object"
      ]
     },
     "execution_count": 77,
     "metadata": {},
     "output_type": "execute_result"
    }
   ],
   "source": [
    "data.dtypes"
   ]
  },
  {
   "cell_type": "markdown",
   "id": "approximate-thumbnail",
   "metadata": {},
   "source": [
    "#### Drop non useful ones"
   ]
  },
  {
   "cell_type": "code",
   "execution_count": 78,
   "id": "listed-tiger",
   "metadata": {},
   "outputs": [
    {
     "data": {
      "text/plain": [
       "tpep_pickup_datetime     datetime64[ns]\n",
       "tpep_dropoff_datetime    datetime64[ns]\n",
       "passenger_count                 float64\n",
       "trip_distance                   float64\n",
       "RatecodeID                       object\n",
       "PULocationID                      int64\n",
       "DOLocationID                      int64\n",
       "payment_type                     object\n",
       "fare_amount                     float64\n",
       "extra                           float64\n",
       "tip_amount                      float64\n",
       "tolls_amount                    float64\n",
       "total_amount                    float64\n",
       "trip_duration                   float64\n",
       "dtype: object"
      ]
     },
     "execution_count": 78,
     "metadata": {},
     "output_type": "execute_result"
    }
   ],
   "source": [
    "data.drop(['VendorID','mta_tax','improvement_surcharge','store_and_fwd_flag','congestion_surcharge'], axis=1, inplace=True)\n",
    "data.dtypes"
   ]
  },
  {
   "cell_type": "markdown",
   "id": "great-float",
   "metadata": {},
   "source": [
    "#### According to the information about the data, the tips column only corresponds to trips that were paid with credit card. For this reason, and since our app will also work with credit card, we will erase all the trips that were not payed by credit card"
   ]
  },
  {
   "cell_type": "code",
   "execution_count": 79,
   "id": "eight-reunion",
   "metadata": {},
   "outputs": [
    {
     "data": {
      "text/plain": [
       "(4216488, 14)"
      ]
     },
     "execution_count": 79,
     "metadata": {},
     "output_type": "execute_result"
    }
   ],
   "source": [
    "data = data.loc[data['payment_type'] == 1]\n",
    "data.shape"
   ]
  },
  {
   "cell_type": "markdown",
   "id": "willing-flour",
   "metadata": {},
   "source": [
    "#### Erase values that do not correspond to year 2019 and month August"
   ]
  },
  {
   "cell_type": "code",
   "execution_count": 80,
   "id": "analyzed-glasgow",
   "metadata": {},
   "outputs": [
    {
     "data": {
      "text/plain": [
       "(4214783, 14)"
      ]
     },
     "execution_count": 80,
     "metadata": {},
     "output_type": "execute_result"
    }
   ],
   "source": [
    "data = data.loc[(data['tpep_pickup_datetime'].dt.year == 2019) & (data['tpep_pickup_datetime'].dt.month == 8)]\n",
    "data = data.loc[(data['tpep_dropoff_datetime'].dt.year == 2019) & (data['tpep_dropoff_datetime'].dt.month == 8)]\n",
    "data.shape"
   ]
  },
  {
   "cell_type": "markdown",
   "id": "disciplinary-visit",
   "metadata": {},
   "source": [
    "#### Also, we remove all trips where the recorded distance, fare amount, total amount or passenger count were 0, and the trips with a time duration less or equal to 0"
   ]
  },
  {
   "cell_type": "code",
   "execution_count": 81,
   "id": "designed-editing",
   "metadata": {},
   "outputs": [
    {
     "data": {
      "text/plain": [
       "(39209, 14)"
      ]
     },
     "execution_count": 81,
     "metadata": {},
     "output_type": "execute_result"
    },
    {
     "data": {
      "text/plain": [
       "(677, 14)"
      ]
     },
     "execution_count": 81,
     "metadata": {},
     "output_type": "execute_result"
    },
    {
     "data": {
      "text/plain": [
       "(75936, 14)"
      ]
     },
     "execution_count": 81,
     "metadata": {},
     "output_type": "execute_result"
    },
    {
     "data": {
      "text/plain": [
       "(29873, 14)"
      ]
     },
     "execution_count": 81,
     "metadata": {},
     "output_type": "execute_result"
    }
   ],
   "source": [
    "# try function\n",
    "data.loc[data['trip_distance'] == 0].shape\n",
    "data.loc[data['fare_amount'] == 0].shape\n",
    "data.loc[data['passenger_count'] == 0].shape\n",
    "data.loc[data['trip_duration'] <= 0].shape"
   ]
  },
  {
   "cell_type": "code",
   "execution_count": 82,
   "id": "collective-hydrogen",
   "metadata": {},
   "outputs": [
    {
     "data": {
      "text/plain": [
       "(4090903, 14)"
      ]
     },
     "execution_count": 82,
     "metadata": {},
     "output_type": "execute_result"
    }
   ],
   "source": [
    "data = data.loc[(data['trip_distance'] != 0) & (data['fare_amount'] != 0) & (data['passenger_count'] != 0) & (data['trip_duration'] > 0)]\n",
    "data.shape"
   ]
  },
  {
   "cell_type": "markdown",
   "id": "norman-burke",
   "metadata": {},
   "source": [
    "#### Add column for average trip speed (we assume that if it is lower then 40km/h it took too long)"
   ]
  },
  {
   "cell_type": "code",
   "execution_count": 83,
   "id": "relevant-shanghai",
   "metadata": {},
   "outputs": [],
   "source": [
    "data['trip_average_speed'] = (data['trip_distance'] / (data['trip_duration']/60)).astype('float64')"
   ]
  },
  {
   "cell_type": "markdown",
   "id": "alpha-replica",
   "metadata": {},
   "source": [
    "#### Add column to convert tip_amount to percentage"
   ]
  },
  {
   "cell_type": "code",
   "execution_count": 84,
   "id": "pressing-guarantee",
   "metadata": {},
   "outputs": [],
   "source": [
    "data['tip_percentage'] = ((data['tip_amount'] / data['total_amount'])*100).astype('float64')"
   ]
  },
  {
   "cell_type": "markdown",
   "id": "traditional-smith",
   "metadata": {},
   "source": [
    "#### Add column to check the part of the day in which the trip has been made "
   ]
  },
  {
   "cell_type": "code",
   "execution_count": 85,
   "id": "residential-rebecca",
   "metadata": {},
   "outputs": [],
   "source": [
    "data['pickup_time'],data['pickup_date']= data['tpep_pickup_datetime'].apply(lambda x:x.time()), data['tpep_pickup_datetime'].apply(lambda x:x.date())"
   ]
  },
  {
   "cell_type": "code",
   "execution_count": 86,
   "id": "laughing-application",
   "metadata": {},
   "outputs": [],
   "source": [
    "def day_part(x):\n",
    "    if datetime.time(6,0,0) < x < datetime.time(11, 29, 59):\n",
    "        return 'Morning'\n",
    "    elif datetime.time(11, 30, 0) < x < datetime.time(14, 29, 59):\n",
    "        return 'Midday'\n",
    "    elif datetime.time(14, 30, 0) < x < datetime.time(17, 59, 59):\n",
    "        return 'Afternoon'\n",
    "    elif datetime.time(18, 0, 0) < x < datetime.time(20, 59, 59):\n",
    "        return 'Evening'\n",
    "    else:\n",
    "        return 'Night'"
   ]
  },
  {
   "cell_type": "code",
   "execution_count": 87,
   "id": "dominican-stanford",
   "metadata": {},
   "outputs": [],
   "source": [
    "data['day_part'] = data['pickup_time'].apply(day_part)"
   ]
  },
  {
   "cell_type": "code",
   "execution_count": 88,
   "id": "palestinian-diagram",
   "metadata": {},
   "outputs": [],
   "source": [
    "# data['day_part'].value_counts()"
   ]
  },
  {
   "cell_type": "markdown",
   "id": "sealed-cable",
   "metadata": {},
   "source": [
    "#### Add column to check if the trip was made on a weekday or weekend "
   ]
  },
  {
   "cell_type": "code",
   "execution_count": 89,
   "id": "regional-commissioner",
   "metadata": {},
   "outputs": [],
   "source": [
    "def weekday(x):\n",
    "    if datetime.datetime.weekday(x) == 1 :\n",
    "        return 'Monday'\n",
    "    elif datetime.datetime.weekday(x) == 2 :\n",
    "        return 'Tuesday'\n",
    "    elif datetime.datetime.weekday(x) == 3 :\n",
    "        return 'Wednesday'\n",
    "    elif datetime.datetime.weekday(x) == 4 :\n",
    "        return 'Thursday'\n",
    "    elif datetime.datetime.weekday(x) == 5 :\n",
    "        return 'Friday'\n",
    "    elif datetime.datetime.weekday(x) == 6 :\n",
    "        return 'Saturday'\n",
    "    else:\n",
    "        return 'Sunday'"
   ]
  },
  {
   "cell_type": "code",
   "execution_count": 90,
   "id": "julian-experience",
   "metadata": {},
   "outputs": [],
   "source": [
    "data['weekday'] = data['tpep_pickup_datetime'].apply(weekday)"
   ]
  },
  {
   "cell_type": "code",
   "execution_count": 91,
   "id": "least-english",
   "metadata": {},
   "outputs": [],
   "source": [
    "# data['weekday'].value_counts()"
   ]
  },
  {
   "cell_type": "markdown",
   "id": "existing-integer",
   "metadata": {},
   "source": [
    "#### Add additional column to categorise passenger load"
   ]
  },
  {
   "cell_type": "code",
   "execution_count": 92,
   "id": "pursuant-valley",
   "metadata": {},
   "outputs": [],
   "source": [
    "def encode_passenger(x):\n",
    "    if x == 1.00:\n",
    "        return 'Individual passenger'\n",
    "    elif (x == 2.00) | (x==3.00):\n",
    "        return 'Small group'\n",
    "    else:\n",
    "        return 'Big group'"
   ]
  },
  {
   "cell_type": "code",
   "execution_count": 93,
   "id": "overhead-portuguese",
   "metadata": {},
   "outputs": [],
   "source": [
    "data['passenger_load'] = list(map(encode_passenger, data['passenger_count']))"
   ]
  },
  {
   "cell_type": "markdown",
   "id": "objective-tennessee",
   "metadata": {},
   "source": [
    "#### Add additional column to categorise passenger load"
   ]
  },
  {
   "cell_type": "code",
   "execution_count": 94,
   "id": "legal-tunnel",
   "metadata": {},
   "outputs": [],
   "source": [
    "def encode_rate(x):\n",
    "    if x == 1.0:\n",
    "        return 'Standard rate'\n",
    "    elif x == 2.0:\n",
    "        return 'JFK Airport'\n",
    "    elif x == 3.0:\n",
    "        return 'Newark'\n",
    "    elif x == 4.0:\n",
    "        return 'Nassau or Westchester'\n",
    "    else:\n",
    "        return 'Negotiated fare'"
   ]
  },
  {
   "cell_type": "code",
   "execution_count": 95,
   "id": "genetic-undergraduate",
   "metadata": {},
   "outputs": [],
   "source": [
    "data['ratecodeID'] = list(map(encode_rate, data['RatecodeID']))"
   ]
  },
  {
   "cell_type": "markdown",
   "id": "liked-landing",
   "metadata": {},
   "source": [
    "### NaN values"
   ]
  },
  {
   "cell_type": "code",
   "execution_count": 96,
   "id": "optimum-romania",
   "metadata": {},
   "outputs": [
    {
     "data": {
      "text/plain": [
       "tpep_pickup_datetime     0\n",
       "tpep_dropoff_datetime    0\n",
       "passenger_count          0\n",
       "trip_distance            0\n",
       "RatecodeID               0\n",
       "PULocationID             0\n",
       "DOLocationID             0\n",
       "payment_type             0\n",
       "fare_amount              0\n",
       "extra                    0\n",
       "tip_amount               0\n",
       "tolls_amount             0\n",
       "total_amount             0\n",
       "trip_duration            0\n",
       "trip_average_speed       0\n",
       "tip_percentage           0\n",
       "pickup_time              0\n",
       "pickup_date              0\n",
       "day_part                 0\n",
       "weekday                  0\n",
       "passenger_load           0\n",
       "ratecodeID               0\n",
       "dtype: int64"
      ]
     },
     "execution_count": 96,
     "metadata": {},
     "output_type": "execute_result"
    }
   ],
   "source": [
    "# no null values\n",
    "data.isnull().sum()"
   ]
  },
  {
   "cell_type": "markdown",
   "id": "otherwise-williams",
   "metadata": {},
   "source": [
    "### Numerical variables"
   ]
  },
  {
   "cell_type": "markdown",
   "id": "moral-grade",
   "metadata": {},
   "source": [
    "#### First, we will remove the location columns, as they have no relevance in a non-spatial algorithm"
   ]
  },
  {
   "cell_type": "code",
   "execution_count": 97,
   "id": "ahead-undergraduate",
   "metadata": {},
   "outputs": [
    {
     "name": "stderr",
     "output_type": "stream",
     "text": [
      "C:\\Users\\besca\\anaconda3\\lib\\site-packages\\pandas\\core\\frame.py:4315: SettingWithCopyWarning: \n",
      "A value is trying to be set on a copy of a slice from a DataFrame\n",
      "\n",
      "See the caveats in the documentation: https://pandas.pydata.org/pandas-docs/stable/user_guide/indexing.html#returning-a-view-versus-a-copy\n",
      "  errors=errors,\n"
     ]
    }
   ],
   "source": [
    "numerical = data.select_dtypes(np.number)\n",
    "numerical.drop(['PULocationID','DOLocationID'], axis=1, inplace=True)"
   ]
  },
  {
   "cell_type": "markdown",
   "id": "productive-cancer",
   "metadata": {},
   "source": [
    "#### Exploration of the variables"
   ]
  },
  {
   "cell_type": "code",
   "execution_count": 98,
   "id": "careful-richardson",
   "metadata": {},
   "outputs": [
    {
     "data": {
      "text/plain": [
       "passenger_count       float64\n",
       "trip_distance         float64\n",
       "fare_amount           float64\n",
       "extra                 float64\n",
       "tip_amount            float64\n",
       "tolls_amount          float64\n",
       "total_amount          float64\n",
       "trip_duration         float64\n",
       "trip_average_speed    float64\n",
       "tip_percentage        float64\n",
       "dtype: object"
      ]
     },
     "execution_count": 98,
     "metadata": {},
     "output_type": "execute_result"
    },
    {
     "data": {
      "text/html": [
       "<div>\n",
       "<style scoped>\n",
       "    .dataframe tbody tr th:only-of-type {\n",
       "        vertical-align: middle;\n",
       "    }\n",
       "\n",
       "    .dataframe tbody tr th {\n",
       "        vertical-align: top;\n",
       "    }\n",
       "\n",
       "    .dataframe thead th {\n",
       "        text-align: right;\n",
       "    }\n",
       "</style>\n",
       "<table border=\"1\" class=\"dataframe\">\n",
       "  <thead>\n",
       "    <tr style=\"text-align: right;\">\n",
       "      <th></th>\n",
       "      <th>passenger_count</th>\n",
       "      <th>trip_distance</th>\n",
       "      <th>fare_amount</th>\n",
       "      <th>extra</th>\n",
       "      <th>tip_amount</th>\n",
       "      <th>tolls_amount</th>\n",
       "      <th>total_amount</th>\n",
       "      <th>trip_duration</th>\n",
       "      <th>trip_average_speed</th>\n",
       "      <th>tip_percentage</th>\n",
       "    </tr>\n",
       "  </thead>\n",
       "  <tbody>\n",
       "    <tr>\n",
       "      <th>count</th>\n",
       "      <td>4,090,903.0000</td>\n",
       "      <td>4,090,903.0000</td>\n",
       "      <td>4,090,903.0000</td>\n",
       "      <td>4,090,903.0000</td>\n",
       "      <td>4,090,903.0000</td>\n",
       "      <td>4,090,903.0000</td>\n",
       "      <td>4,090,903.0000</td>\n",
       "      <td>4,090,903.0000</td>\n",
       "      <td>4,090,903.0000</td>\n",
       "      <td>4,090,903.0000</td>\n",
       "    </tr>\n",
       "    <tr>\n",
       "      <th>mean</th>\n",
       "      <td>1.5840</td>\n",
       "      <td>5.1463</td>\n",
       "      <td>13.4394</td>\n",
       "      <td>1.1621</td>\n",
       "      <td>3.0978</td>\n",
       "      <td>0.4396</td>\n",
       "      <td>20.4832</td>\n",
       "      <td>17.2213</td>\n",
       "      <td>20.4115</td>\n",
       "      <td>14.9544</td>\n",
       "    </tr>\n",
       "    <tr>\n",
       "      <th>std</th>\n",
       "      <td>1.1976</td>\n",
       "      <td>6.5504</td>\n",
       "      <td>12.0149</td>\n",
       "      <td>1.2670</td>\n",
       "      <td>2.9393</td>\n",
       "      <td>1.7512</td>\n",
       "      <td>15.4389</td>\n",
       "      <td>68.0734</td>\n",
       "      <td>12.8131</td>\n",
       "      <td>5.1232</td>\n",
       "    </tr>\n",
       "    <tr>\n",
       "      <th>min</th>\n",
       "      <td>1.0000</td>\n",
       "      <td>0.0161</td>\n",
       "      <td>-31.0000</td>\n",
       "      <td>-21.2200</td>\n",
       "      <td>-51.9300</td>\n",
       "      <td>-6.1200</td>\n",
       "      <td>-93.3500</td>\n",
       "      <td>1.0000</td>\n",
       "      <td>0.0007</td>\n",
       "      <td>0.0000</td>\n",
       "    </tr>\n",
       "    <tr>\n",
       "      <th>25%</th>\n",
       "      <td>1.0000</td>\n",
       "      <td>1.7220</td>\n",
       "      <td>6.5000</td>\n",
       "      <td>0.0000</td>\n",
       "      <td>1.7600</td>\n",
       "      <td>0.0000</td>\n",
       "      <td>12.3000</td>\n",
       "      <td>7.0000</td>\n",
       "      <td>13.3116</td>\n",
       "      <td>13.0435</td>\n",
       "    </tr>\n",
       "    <tr>\n",
       "      <th>50%</th>\n",
       "      <td>1.0000</td>\n",
       "      <td>2.8324</td>\n",
       "      <td>9.5000</td>\n",
       "      <td>0.5000</td>\n",
       "      <td>2.3600</td>\n",
       "      <td>0.0000</td>\n",
       "      <td>15.3600</td>\n",
       "      <td>11.0000</td>\n",
       "      <td>17.9327</td>\n",
       "      <td>16.6621</td>\n",
       "    </tr>\n",
       "    <tr>\n",
       "      <th>75%</th>\n",
       "      <td>2.0000</td>\n",
       "      <td>5.2304</td>\n",
       "      <td>15.0000</td>\n",
       "      <td>2.5000</td>\n",
       "      <td>3.4600</td>\n",
       "      <td>0.0000</td>\n",
       "      <td>21.6200</td>\n",
       "      <td>18.0000</td>\n",
       "      <td>24.5264</td>\n",
       "      <td>16.6667</td>\n",
       "    </tr>\n",
       "    <tr>\n",
       "      <th>max</th>\n",
       "      <td>9.0000</td>\n",
       "      <td>493.9077</td>\n",
       "      <td>950.0000</td>\n",
       "      <td>17.5000</td>\n",
       "      <td>500.0000</td>\n",
       "      <td>66.5000</td>\n",
       "      <td>960.8000</td>\n",
       "      <td>7,283.0000</td>\n",
       "      <td>4,557.6622</td>\n",
       "      <td>99.5591</td>\n",
       "    </tr>\n",
       "  </tbody>\n",
       "</table>\n",
       "</div>"
      ],
      "text/plain": [
       "       passenger_count  trip_distance    fare_amount          extra  \\\n",
       "count   4,090,903.0000 4,090,903.0000 4,090,903.0000 4,090,903.0000   \n",
       "mean            1.5840         5.1463        13.4394         1.1621   \n",
       "std             1.1976         6.5504        12.0149         1.2670   \n",
       "min             1.0000         0.0161       -31.0000       -21.2200   \n",
       "25%             1.0000         1.7220         6.5000         0.0000   \n",
       "50%             1.0000         2.8324         9.5000         0.5000   \n",
       "75%             2.0000         5.2304        15.0000         2.5000   \n",
       "max             9.0000       493.9077       950.0000        17.5000   \n",
       "\n",
       "          tip_amount   tolls_amount   total_amount  trip_duration  \\\n",
       "count 4,090,903.0000 4,090,903.0000 4,090,903.0000 4,090,903.0000   \n",
       "mean          3.0978         0.4396        20.4832        17.2213   \n",
       "std           2.9393         1.7512        15.4389        68.0734   \n",
       "min         -51.9300        -6.1200       -93.3500         1.0000   \n",
       "25%           1.7600         0.0000        12.3000         7.0000   \n",
       "50%           2.3600         0.0000        15.3600        11.0000   \n",
       "75%           3.4600         0.0000        21.6200        18.0000   \n",
       "max         500.0000        66.5000       960.8000     7,283.0000   \n",
       "\n",
       "       trip_average_speed  tip_percentage  \n",
       "count      4,090,903.0000  4,090,903.0000  \n",
       "mean              20.4115         14.9544  \n",
       "std               12.8131          5.1232  \n",
       "min                0.0007          0.0000  \n",
       "25%               13.3116         13.0435  \n",
       "50%               17.9327         16.6621  \n",
       "75%               24.5264         16.6667  \n",
       "max            4,557.6622         99.5591  "
      ]
     },
     "execution_count": 98,
     "metadata": {},
     "output_type": "execute_result"
    }
   ],
   "source": [
    "numerical.dtypes\n",
    "numerical.describe()"
   ]
  },
  {
   "cell_type": "code",
   "execution_count": 99,
   "id": "later-offering",
   "metadata": {},
   "outputs": [
    {
     "data": {
      "text/html": [
       "<div>\n",
       "<style scoped>\n",
       "    .dataframe tbody tr th:only-of-type {\n",
       "        vertical-align: middle;\n",
       "    }\n",
       "\n",
       "    .dataframe tbody tr th {\n",
       "        vertical-align: top;\n",
       "    }\n",
       "\n",
       "    .dataframe thead th {\n",
       "        text-align: right;\n",
       "    }\n",
       "</style>\n",
       "<table border=\"1\" class=\"dataframe\">\n",
       "  <thead>\n",
       "    <tr style=\"text-align: right;\">\n",
       "      <th></th>\n",
       "      <th>passenger_count</th>\n",
       "      <th>trip_distance</th>\n",
       "      <th>fare_amount</th>\n",
       "      <th>extra</th>\n",
       "      <th>tip_amount</th>\n",
       "      <th>tolls_amount</th>\n",
       "      <th>total_amount</th>\n",
       "      <th>trip_duration</th>\n",
       "      <th>trip_average_speed</th>\n",
       "      <th>tip_percentage</th>\n",
       "    </tr>\n",
       "  </thead>\n",
       "  <tbody>\n",
       "    <tr>\n",
       "      <th>count</th>\n",
       "      <td>4,090,903.0000</td>\n",
       "      <td>4,090,903.0000</td>\n",
       "      <td>4,090,903.0000</td>\n",
       "      <td>4,090,903.0000</td>\n",
       "      <td>4,090,903.0000</td>\n",
       "      <td>4,090,903.0000</td>\n",
       "      <td>4,090,903.0000</td>\n",
       "      <td>4,090,903.0000</td>\n",
       "      <td>4,090,903.0000</td>\n",
       "      <td>4,090,903.0000</td>\n",
       "    </tr>\n",
       "    <tr>\n",
       "      <th>mean</th>\n",
       "      <td>1.5840</td>\n",
       "      <td>5.1463</td>\n",
       "      <td>13.4395</td>\n",
       "      <td>1.1621</td>\n",
       "      <td>3.0979</td>\n",
       "      <td>0.4396</td>\n",
       "      <td>20.4833</td>\n",
       "      <td>17.2213</td>\n",
       "      <td>20.4115</td>\n",
       "      <td>14.9544</td>\n",
       "    </tr>\n",
       "    <tr>\n",
       "      <th>std</th>\n",
       "      <td>1.1976</td>\n",
       "      <td>6.5504</td>\n",
       "      <td>12.0148</td>\n",
       "      <td>1.2670</td>\n",
       "      <td>2.9393</td>\n",
       "      <td>1.7512</td>\n",
       "      <td>15.4387</td>\n",
       "      <td>68.0734</td>\n",
       "      <td>12.8131</td>\n",
       "      <td>5.1232</td>\n",
       "    </tr>\n",
       "    <tr>\n",
       "      <th>min</th>\n",
       "      <td>1.0000</td>\n",
       "      <td>0.0161</td>\n",
       "      <td>0.0100</td>\n",
       "      <td>0.0000</td>\n",
       "      <td>0.0000</td>\n",
       "      <td>0.0000</td>\n",
       "      <td>0.4700</td>\n",
       "      <td>1.0000</td>\n",
       "      <td>0.0007</td>\n",
       "      <td>0.0000</td>\n",
       "    </tr>\n",
       "    <tr>\n",
       "      <th>25%</th>\n",
       "      <td>1.0000</td>\n",
       "      <td>1.7220</td>\n",
       "      <td>6.5000</td>\n",
       "      <td>0.0000</td>\n",
       "      <td>1.7600</td>\n",
       "      <td>0.0000</td>\n",
       "      <td>12.3000</td>\n",
       "      <td>7.0000</td>\n",
       "      <td>13.3116</td>\n",
       "      <td>13.0435</td>\n",
       "    </tr>\n",
       "    <tr>\n",
       "      <th>50%</th>\n",
       "      <td>1.0000</td>\n",
       "      <td>2.8324</td>\n",
       "      <td>9.5000</td>\n",
       "      <td>0.5000</td>\n",
       "      <td>2.3600</td>\n",
       "      <td>0.0000</td>\n",
       "      <td>15.3600</td>\n",
       "      <td>11.0000</td>\n",
       "      <td>17.9327</td>\n",
       "      <td>16.6621</td>\n",
       "    </tr>\n",
       "    <tr>\n",
       "      <th>75%</th>\n",
       "      <td>2.0000</td>\n",
       "      <td>5.2304</td>\n",
       "      <td>15.0000</td>\n",
       "      <td>2.5000</td>\n",
       "      <td>3.4600</td>\n",
       "      <td>0.0000</td>\n",
       "      <td>21.6200</td>\n",
       "      <td>18.0000</td>\n",
       "      <td>24.5264</td>\n",
       "      <td>16.6667</td>\n",
       "    </tr>\n",
       "    <tr>\n",
       "      <th>max</th>\n",
       "      <td>9.0000</td>\n",
       "      <td>493.9077</td>\n",
       "      <td>950.0000</td>\n",
       "      <td>21.2200</td>\n",
       "      <td>500.0000</td>\n",
       "      <td>66.5000</td>\n",
       "      <td>960.8000</td>\n",
       "      <td>7,283.0000</td>\n",
       "      <td>4,557.6622</td>\n",
       "      <td>99.5591</td>\n",
       "    </tr>\n",
       "  </tbody>\n",
       "</table>\n",
       "</div>"
      ],
      "text/plain": [
       "       passenger_count  trip_distance    fare_amount          extra  \\\n",
       "count   4,090,903.0000 4,090,903.0000 4,090,903.0000 4,090,903.0000   \n",
       "mean            1.5840         5.1463        13.4395         1.1621   \n",
       "std             1.1976         6.5504        12.0148         1.2670   \n",
       "min             1.0000         0.0161         0.0100         0.0000   \n",
       "25%             1.0000         1.7220         6.5000         0.0000   \n",
       "50%             1.0000         2.8324         9.5000         0.5000   \n",
       "75%             2.0000         5.2304        15.0000         2.5000   \n",
       "max             9.0000       493.9077       950.0000        21.2200   \n",
       "\n",
       "          tip_amount   tolls_amount   total_amount  trip_duration  \\\n",
       "count 4,090,903.0000 4,090,903.0000 4,090,903.0000 4,090,903.0000   \n",
       "mean          3.0979         0.4396        20.4833        17.2213   \n",
       "std           2.9393         1.7512        15.4387        68.0734   \n",
       "min           0.0000         0.0000         0.4700         1.0000   \n",
       "25%           1.7600         0.0000        12.3000         7.0000   \n",
       "50%           2.3600         0.0000        15.3600        11.0000   \n",
       "75%           3.4600         0.0000        21.6200        18.0000   \n",
       "max         500.0000        66.5000       960.8000     7,283.0000   \n",
       "\n",
       "       trip_average_speed  tip_percentage  \n",
       "count      4,090,903.0000  4,090,903.0000  \n",
       "mean              20.4115         14.9544  \n",
       "std               12.8131          5.1232  \n",
       "min                0.0007          0.0000  \n",
       "25%               13.3116         13.0435  \n",
       "50%               17.9327         16.6621  \n",
       "75%               24.5264         16.6667  \n",
       "max            4,557.6622         99.5591  "
      ]
     },
     "execution_count": 99,
     "metadata": {},
     "output_type": "execute_result"
    }
   ],
   "source": [
    "# remove negative sign from values\n",
    "\n",
    "numerical = abs(numerical)\n",
    "numerical.describe()"
   ]
  },
  {
   "cell_type": "code",
   "execution_count": 100,
   "id": "speaking-processing",
   "metadata": {
    "scrolled": false
   },
   "outputs": [],
   "source": [
    "# data.loc[data['tip_amount']==500.0000]"
   ]
  },
  {
   "cell_type": "code",
   "execution_count": 101,
   "id": "shaped-dover",
   "metadata": {
    "scrolled": false
   },
   "outputs": [],
   "source": [
    "# for x in numerical:\n",
    "#     numerical[x].value_counts();"
   ]
  },
  {
   "cell_type": "code",
   "execution_count": 102,
   "id": "patent-seafood",
   "metadata": {},
   "outputs": [
    {
     "data": {
      "text/plain": [
       "Text(0.5, 0.98, 'Distribution of numerical variables')"
      ]
     },
     "execution_count": 102,
     "metadata": {},
     "output_type": "execute_result"
    },
    {
     "data": {
      "text/plain": [
       "<AxesSubplot:xlabel='passenger_count'>"
      ]
     },
     "execution_count": 102,
     "metadata": {},
     "output_type": "execute_result"
    },
    {
     "data": {
      "text/plain": [
       "<AxesSubplot:xlabel='trip_distance'>"
      ]
     },
     "execution_count": 102,
     "metadata": {},
     "output_type": "execute_result"
    },
    {
     "data": {
      "text/plain": [
       "<AxesSubplot:xlabel='fare_amount'>"
      ]
     },
     "execution_count": 102,
     "metadata": {},
     "output_type": "execute_result"
    },
    {
     "data": {
      "text/plain": [
       "<AxesSubplot:xlabel='extra'>"
      ]
     },
     "execution_count": 102,
     "metadata": {},
     "output_type": "execute_result"
    },
    {
     "data": {
      "text/plain": [
       "<AxesSubplot:xlabel='tip_amount'>"
      ]
     },
     "execution_count": 102,
     "metadata": {},
     "output_type": "execute_result"
    },
    {
     "data": {
      "text/plain": [
       "<AxesSubplot:xlabel='tolls_amount'>"
      ]
     },
     "execution_count": 102,
     "metadata": {},
     "output_type": "execute_result"
    },
    {
     "data": {
      "text/plain": [
       "<AxesSubplot:xlabel='trip_duration'>"
      ]
     },
     "execution_count": 102,
     "metadata": {},
     "output_type": "execute_result"
    },
    {
     "data": {
      "text/plain": [
       "<AxesSubplot:xlabel='trip_average_speed'>"
      ]
     },
     "execution_count": 102,
     "metadata": {},
     "output_type": "execute_result"
    },
    {
     "data": {
      "image/png": "[encoded data removed]",
      "text/plain": [
       "<Figure size 1440x576 with 8 Axes>"
      ]
     },
     "metadata": {
      "needs_background": "light"
     },
     "output_type": "display_data"
    }
   ],
   "source": [
    "fig, axes = plt.subplots(2,4,  figsize=(20, 8))\n",
    "\n",
    "fig.suptitle('Distribution of numerical variables')\n",
    "\n",
    "sns.boxplot(ax=axes[0,0],data= numerical, x='passenger_count')\n",
    "sns.boxplot(ax=axes[0,1],data= numerical, x= 'trip_distance')\n",
    "sns.boxplot(ax=axes[0,2],data= numerical, x= 'fare_amount')\n",
    "sns.boxplot(ax=axes[0,3],data= numerical, x= 'extra')\n",
    "sns.boxplot(ax=axes[1,0],data= numerical, x= 'tip_amount')\n",
    "sns.boxplot(ax=axes[1,1],data= numerical, x= 'tolls_amount')\n",
    "sns.boxplot(ax=axes[1,2],data= numerical, x= 'trip_duration')\n",
    "sns.boxplot(ax=axes[1,2],data= numerical, x= 'trip_average_speed')\n",
    "\n"
   ]
  },
  {
   "cell_type": "markdown",
   "id": "graphic-samoa",
   "metadata": {},
   "source": [
    "<!-- We are going to erase all rows where one of the following conditions is not met:\n",
    "* trip_distance > 40\n",
    "fare_amount -->\n",
    "\n"
   ]
  },
  {
   "cell_type": "markdown",
   "id": "nervous-establishment",
   "metadata": {},
   "source": [
    "#### Dealing with outliers"
   ]
  },
  {
   "cell_type": "markdown",
   "id": "critical-prototype",
   "metadata": {},
   "source": [
    "Since we have a huge amount of data (4,101,959 rows) we have decided not to drop any outliers as their overall impact on the model is likely to be really low. FAILED. LET'S REMOVE OUTLIERS"
   ]
  },
  {
   "cell_type": "markdown",
   "id": "employed-anger",
   "metadata": {},
   "source": [
    "Removing outliers I get a score of 0.39...."
   ]
  },
  {
   "cell_type": "code",
   "execution_count": 103,
   "id": "superior-jungle",
   "metadata": {},
   "outputs": [
    {
     "name": "stderr",
     "output_type": "stream",
     "text": [
      "C:\\Users\\besca\\anaconda3\\lib\\site-packages\\seaborn\\_decorators.py:43: FutureWarning: Pass the following variable as a keyword arg: x. From version 0.12, the only valid positional argument will be `data`, and passing other arguments without an explicit keyword will result in an error or misinterpretation.\n",
      "  FutureWarning\n"
     ]
    },
    {
     "data": {
      "text/plain": [
       "<AxesSubplot:xlabel='trip_distance'>"
      ]
     },
     "execution_count": 103,
     "metadata": {},
     "output_type": "execute_result"
    },
    {
     "data": {
      "image/png": "[encoded data removed]",
      "text/plain": [
       "<Figure size 432x288 with 1 Axes>"
      ]
     },
     "metadata": {
      "needs_background": "light"
     },
     "output_type": "display_data"
    }
   ],
   "source": [
    "# trip_distance\n",
    "numerical = numerical[(numerical['trip_distance']<100)]\n",
    "sns.boxplot(numerical['trip_distance'])\n",
    "plt.show()"
   ]
  },
  {
   "cell_type": "code",
   "execution_count": 104,
   "id": "traditional-pavilion",
   "metadata": {},
   "outputs": [
    {
     "name": "stderr",
     "output_type": "stream",
     "text": [
      "C:\\Users\\besca\\anaconda3\\lib\\site-packages\\seaborn\\_decorators.py:43: FutureWarning: Pass the following variable as a keyword arg: x. From version 0.12, the only valid positional argument will be `data`, and passing other arguments without an explicit keyword will result in an error or misinterpretation.\n",
      "  FutureWarning\n"
     ]
    },
    {
     "data": {
      "text/plain": [
       "<AxesSubplot:xlabel='fare_amount'>"
      ]
     },
     "execution_count": 104,
     "metadata": {},
     "output_type": "execute_result"
    },
    {
     "data": {
      "image/png": "[encoded data removed]",
      "text/plain": [
       "<Figure size 432x288 with 1 Axes>"
      ]
     },
     "metadata": {
      "needs_background": "light"
     },
     "output_type": "display_data"
    }
   ],
   "source": [
    "# fare_amount\n",
    "numerical = numerical[(numerical['fare_amount']<100)]\n",
    "sns.boxplot(numerical['fare_amount'])\n",
    "plt.show()"
   ]
  },
  {
   "cell_type": "code",
   "execution_count": 105,
   "id": "textile-nylon",
   "metadata": {},
   "outputs": [
    {
     "name": "stderr",
     "output_type": "stream",
     "text": [
      "C:\\Users\\besca\\anaconda3\\lib\\site-packages\\seaborn\\_decorators.py:43: FutureWarning: Pass the following variable as a keyword arg: x. From version 0.12, the only valid positional argument will be `data`, and passing other arguments without an explicit keyword will result in an error or misinterpretation.\n",
      "  FutureWarning\n"
     ]
    },
    {
     "data": {
      "text/plain": [
       "<AxesSubplot:xlabel='tip_amount'>"
      ]
     },
     "execution_count": 105,
     "metadata": {},
     "output_type": "execute_result"
    },
    {
     "data": {
      "image/png": "[encoded data removed]",
      "text/plain": [
       "<Figure size 432x288 with 1 Axes>"
      ]
     },
     "metadata": {
      "needs_background": "light"
     },
     "output_type": "display_data"
    }
   ],
   "source": [
    "# tip_amount\n",
    "numerical = numerical[(numerical['tip_amount']<30)]\n",
    "sns.boxplot(numerical['tip_amount'])\n",
    "plt.show()"
   ]
  },
  {
   "cell_type": "code",
   "execution_count": 106,
   "id": "straight-landscape",
   "metadata": {},
   "outputs": [
    {
     "name": "stderr",
     "output_type": "stream",
     "text": [
      "C:\\Users\\besca\\anaconda3\\lib\\site-packages\\seaborn\\_decorators.py:43: FutureWarning: Pass the following variable as a keyword arg: x. From version 0.12, the only valid positional argument will be `data`, and passing other arguments without an explicit keyword will result in an error or misinterpretation.\n",
      "  FutureWarning\n"
     ]
    },
    {
     "data": {
      "text/plain": [
       "<AxesSubplot:xlabel='trip_duration'>"
      ]
     },
     "execution_count": 106,
     "metadata": {},
     "output_type": "execute_result"
    },
    {
     "data": {
      "image/png": "[encoded data removed]",
      "text/plain": [
       "<Figure size 432x288 with 1 Axes>"
      ]
     },
     "metadata": {
      "needs_background": "light"
     },
     "output_type": "display_data"
    }
   ],
   "source": [
    "# trip_duration\n",
    "numerical = numerical[(numerical['trip_duration']<120)]\n",
    "sns.boxplot(numerical['trip_duration'])\n",
    "plt.show()"
   ]
  },
  {
   "cell_type": "code",
   "execution_count": 107,
   "id": "generous-oasis",
   "metadata": {},
   "outputs": [
    {
     "name": "stderr",
     "output_type": "stream",
     "text": [
      "C:\\Users\\besca\\anaconda3\\lib\\site-packages\\seaborn\\_decorators.py:43: FutureWarning: Pass the following variable as a keyword arg: x. From version 0.12, the only valid positional argument will be `data`, and passing other arguments without an explicit keyword will result in an error or misinterpretation.\n",
      "  FutureWarning\n"
     ]
    },
    {
     "data": {
      "text/plain": [
       "<AxesSubplot:xlabel='trip_average_speed'>"
      ]
     },
     "execution_count": 107,
     "metadata": {},
     "output_type": "execute_result"
    },
    {
     "data": {
      "image/png": "[encoded data removed]",
      "text/plain": [
       "<Figure size 432x288 with 1 Axes>"
      ]
     },
     "metadata": {
      "needs_background": "light"
     },
     "output_type": "display_data"
    }
   ],
   "source": [
    "# trip_average_speed\n",
    "numerical = numerical[(numerical['trip_average_speed']<120)]\n",
    "sns.boxplot(numerical['trip_average_speed'])\n",
    "plt.show()"
   ]
  },
  {
   "cell_type": "code",
   "execution_count": 108,
   "id": "integrated-filename",
   "metadata": {},
   "outputs": [
    {
     "name": "stderr",
     "output_type": "stream",
     "text": [
      "C:\\Users\\besca\\anaconda3\\lib\\site-packages\\seaborn\\_decorators.py:43: FutureWarning: Pass the following variable as a keyword arg: x. From version 0.12, the only valid positional argument will be `data`, and passing other arguments without an explicit keyword will result in an error or misinterpretation.\n",
      "  FutureWarning\n"
     ]
    },
    {
     "data": {
      "text/plain": [
       "<AxesSubplot:xlabel='tip_percentage'>"
      ]
     },
     "execution_count": 108,
     "metadata": {},
     "output_type": "execute_result"
    },
    {
     "data": {
      "image/png": "[encoded data removed]",
      "text/plain": [
       "<Figure size 432x288 with 1 Axes>"
      ]
     },
     "metadata": {
      "needs_background": "light"
     },
     "output_type": "display_data"
    }
   ],
   "source": [
    "# tip_percentage\n",
    "numerical = numerical[(numerical['tip_percentage']<50)]\n",
    "sns.boxplot(numerical['tip_percentage'])\n",
    "plt.show()"
   ]
  },
  {
   "cell_type": "code",
   "execution_count": 109,
   "id": "included-power",
   "metadata": {},
   "outputs": [],
   "source": [
    "# # tolls_amount\n",
    "# numerical = numerical[(numerical['tolls_amount']<5)]\n",
    "# sns.boxplot(numerical['tolls_amount'])\n",
    "# plt.show()"
   ]
  },
  {
   "cell_type": "code",
   "execution_count": 110,
   "id": "proper-soviet",
   "metadata": {},
   "outputs": [
    {
     "data": {
      "text/plain": [
       "(4074272, 10)"
      ]
     },
     "execution_count": 110,
     "metadata": {},
     "output_type": "execute_result"
    }
   ],
   "source": [
    "numerical.shape"
   ]
  },
  {
   "cell_type": "code",
   "execution_count": 111,
   "id": "boolean-finnish",
   "metadata": {},
   "outputs": [
    {
     "data": {
      "text/html": [
       "<div>\n",
       "<style scoped>\n",
       "    .dataframe tbody tr th:only-of-type {\n",
       "        vertical-align: middle;\n",
       "    }\n",
       "\n",
       "    .dataframe tbody tr th {\n",
       "        vertical-align: top;\n",
       "    }\n",
       "\n",
       "    .dataframe thead th {\n",
       "        text-align: right;\n",
       "    }\n",
       "</style>\n",
       "<table border=\"1\" class=\"dataframe\">\n",
       "  <thead>\n",
       "    <tr style=\"text-align: right;\">\n",
       "      <th></th>\n",
       "      <th>passenger_count</th>\n",
       "      <th>trip_distance</th>\n",
       "      <th>fare_amount</th>\n",
       "      <th>extra</th>\n",
       "      <th>tip_amount</th>\n",
       "      <th>tolls_amount</th>\n",
       "      <th>total_amount</th>\n",
       "      <th>trip_duration</th>\n",
       "      <th>trip_average_speed</th>\n",
       "      <th>tip_percentage</th>\n",
       "    </tr>\n",
       "  </thead>\n",
       "  <tbody>\n",
       "    <tr>\n",
       "      <th>5</th>\n",
       "      <td>1.0000</td>\n",
       "      <td>11.7482</td>\n",
       "      <td>28.0000</td>\n",
       "      <td>3.0000</td>\n",
       "      <td>7.9500</td>\n",
       "      <td>0.0000</td>\n",
       "      <td>39.7500</td>\n",
       "      <td>34.0000</td>\n",
       "      <td>20.7321</td>\n",
       "      <td>20.0000</td>\n",
       "    </tr>\n",
       "    <tr>\n",
       "      <th>9</th>\n",
       "      <td>1.0000</td>\n",
       "      <td>10.4607</td>\n",
       "      <td>25.0000</td>\n",
       "      <td>3.0000</td>\n",
       "      <td>4.3200</td>\n",
       "      <td>0.0000</td>\n",
       "      <td>33.1200</td>\n",
       "      <td>31.0000</td>\n",
       "      <td>20.2466</td>\n",
       "      <td>13.0435</td>\n",
       "    </tr>\n",
       "    <tr>\n",
       "      <th>10</th>\n",
       "      <td>1.0000</td>\n",
       "      <td>3.3796</td>\n",
       "      <td>9.5000</td>\n",
       "      <td>3.0000</td>\n",
       "      <td>2.0000</td>\n",
       "      <td>0.0000</td>\n",
       "      <td>15.3000</td>\n",
       "      <td>11.0000</td>\n",
       "      <td>18.4343</td>\n",
       "      <td>13.0719</td>\n",
       "    </tr>\n",
       "    <tr>\n",
       "      <th>11</th>\n",
       "      <td>1.0000</td>\n",
       "      <td>0.9978</td>\n",
       "      <td>4.5000</td>\n",
       "      <td>0.5000</td>\n",
       "      <td>2.4900</td>\n",
       "      <td>0.0000</td>\n",
       "      <td>10.7900</td>\n",
       "      <td>2.0000</td>\n",
       "      <td>29.9338</td>\n",
       "      <td>23.0769</td>\n",
       "    </tr>\n",
       "    <tr>\n",
       "      <th>15</th>\n",
       "      <td>1.0000</td>\n",
       "      <td>2.8968</td>\n",
       "      <td>9.5000</td>\n",
       "      <td>3.0000</td>\n",
       "      <td>2.6500</td>\n",
       "      <td>0.0000</td>\n",
       "      <td>15.9500</td>\n",
       "      <td>11.0000</td>\n",
       "      <td>15.8008</td>\n",
       "      <td>16.6144</td>\n",
       "    </tr>\n",
       "  </tbody>\n",
       "</table>\n",
       "</div>"
      ],
      "text/plain": [
       "    passenger_count  trip_distance  fare_amount  extra  tip_amount  \\\n",
       "5            1.0000        11.7482      28.0000 3.0000      7.9500   \n",
       "9            1.0000        10.4607      25.0000 3.0000      4.3200   \n",
       "10           1.0000         3.3796       9.5000 3.0000      2.0000   \n",
       "11           1.0000         0.9978       4.5000 0.5000      2.4900   \n",
       "15           1.0000         2.8968       9.5000 3.0000      2.6500   \n",
       "\n",
       "    tolls_amount  total_amount  trip_duration  trip_average_speed  \\\n",
       "5         0.0000       39.7500        34.0000             20.7321   \n",
       "9         0.0000       33.1200        31.0000             20.2466   \n",
       "10        0.0000       15.3000        11.0000             18.4343   \n",
       "11        0.0000       10.7900         2.0000             29.9338   \n",
       "15        0.0000       15.9500        11.0000             15.8008   \n",
       "\n",
       "    tip_percentage  \n",
       "5          20.0000  \n",
       "9          13.0435  \n",
       "10         13.0719  \n",
       "11         23.0769  \n",
       "15         16.6144  "
      ]
     },
     "execution_count": 111,
     "metadata": {},
     "output_type": "execute_result"
    },
    {
     "data": {
      "text/html": [
       "<div>\n",
       "<style scoped>\n",
       "    .dataframe tbody tr th:only-of-type {\n",
       "        vertical-align: middle;\n",
       "    }\n",
       "\n",
       "    .dataframe tbody tr th {\n",
       "        vertical-align: top;\n",
       "    }\n",
       "\n",
       "    .dataframe thead th {\n",
       "        text-align: right;\n",
       "    }\n",
       "</style>\n",
       "<table border=\"1\" class=\"dataframe\">\n",
       "  <thead>\n",
       "    <tr style=\"text-align: right;\">\n",
       "      <th></th>\n",
       "      <th>passenger_count</th>\n",
       "      <th>trip_distance</th>\n",
       "      <th>fare_amount</th>\n",
       "      <th>extra</th>\n",
       "      <th>tip_amount</th>\n",
       "      <th>tolls_amount</th>\n",
       "      <th>total_amount</th>\n",
       "      <th>trip_duration</th>\n",
       "      <th>trip_average_speed</th>\n",
       "      <th>tip_percentage</th>\n",
       "    </tr>\n",
       "  </thead>\n",
       "  <tbody>\n",
       "    <tr>\n",
       "      <th>count</th>\n",
       "      <td>4,074,272.0000</td>\n",
       "      <td>4,074,272.0000</td>\n",
       "      <td>4,074,272.0000</td>\n",
       "      <td>4,074,272.0000</td>\n",
       "      <td>4,074,272.0000</td>\n",
       "      <td>4,074,272.0000</td>\n",
       "      <td>4,074,272.0000</td>\n",
       "      <td>4,074,272.0000</td>\n",
       "      <td>4,074,272.0000</td>\n",
       "      <td>4,074,272.0000</td>\n",
       "    </tr>\n",
       "    <tr>\n",
       "      <th>mean</th>\n",
       "      <td>1.5833</td>\n",
       "      <td>5.0952</td>\n",
       "      <td>13.3034</td>\n",
       "      <td>1.1651</td>\n",
       "      <td>3.0651</td>\n",
       "      <td>0.4294</td>\n",
       "      <td>20.3067</td>\n",
       "      <td>13.8913</td>\n",
       "      <td>20.3933</td>\n",
       "      <td>14.9405</td>\n",
       "    </tr>\n",
       "    <tr>\n",
       "      <th>std</th>\n",
       "      <td>1.1969</td>\n",
       "      <td>6.3394</td>\n",
       "      <td>11.2091</td>\n",
       "      <td>1.2677</td>\n",
       "      <td>2.5595</td>\n",
       "      <td>1.7009</td>\n",
       "      <td>14.4915</td>\n",
       "      <td>11.0380</td>\n",
       "      <td>10.5383</td>\n",
       "      <td>4.9944</td>\n",
       "    </tr>\n",
       "    <tr>\n",
       "      <th>min</th>\n",
       "      <td>1.0000</td>\n",
       "      <td>0.0161</td>\n",
       "      <td>0.0100</td>\n",
       "      <td>0.0000</td>\n",
       "      <td>0.0000</td>\n",
       "      <td>0.0000</td>\n",
       "      <td>0.4700</td>\n",
       "      <td>1.0000</td>\n",
       "      <td>0.0098</td>\n",
       "      <td>0.0000</td>\n",
       "    </tr>\n",
       "    <tr>\n",
       "      <th>25%</th>\n",
       "      <td>1.0000</td>\n",
       "      <td>1.7059</td>\n",
       "      <td>6.5000</td>\n",
       "      <td>0.0000</td>\n",
       "      <td>1.7600</td>\n",
       "      <td>0.0000</td>\n",
       "      <td>12.3000</td>\n",
       "      <td>6.0000</td>\n",
       "      <td>13.3576</td>\n",
       "      <td>13.0435</td>\n",
       "    </tr>\n",
       "    <tr>\n",
       "      <th>50%</th>\n",
       "      <td>1.0000</td>\n",
       "      <td>2.8324</td>\n",
       "      <td>9.5000</td>\n",
       "      <td>0.5000</td>\n",
       "      <td>2.3600</td>\n",
       "      <td>0.0000</td>\n",
       "      <td>15.3600</td>\n",
       "      <td>11.0000</td>\n",
       "      <td>17.9327</td>\n",
       "      <td>16.6621</td>\n",
       "    </tr>\n",
       "    <tr>\n",
       "      <th>75%</th>\n",
       "      <td>2.0000</td>\n",
       "      <td>5.2143</td>\n",
       "      <td>14.5000</td>\n",
       "      <td>2.5000</td>\n",
       "      <td>3.4600</td>\n",
       "      <td>0.0000</td>\n",
       "      <td>21.6000</td>\n",
       "      <td>18.0000</td>\n",
       "      <td>24.5264</td>\n",
       "      <td>16.6667</td>\n",
       "    </tr>\n",
       "    <tr>\n",
       "      <th>max</th>\n",
       "      <td>9.0000</td>\n",
       "      <td>95.4341</td>\n",
       "      <td>99.9900</td>\n",
       "      <td>21.2200</td>\n",
       "      <td>29.9800</td>\n",
       "      <td>66.5000</td>\n",
       "      <td>174.5400</td>\n",
       "      <td>119.0000</td>\n",
       "      <td>119.7352</td>\n",
       "      <td>49.8982</td>\n",
       "    </tr>\n",
       "  </tbody>\n",
       "</table>\n",
       "</div>"
      ],
      "text/plain": [
       "       passenger_count  trip_distance    fare_amount          extra  \\\n",
       "count   4,074,272.0000 4,074,272.0000 4,074,272.0000 4,074,272.0000   \n",
       "mean            1.5833         5.0952        13.3034         1.1651   \n",
       "std             1.1969         6.3394        11.2091         1.2677   \n",
       "min             1.0000         0.0161         0.0100         0.0000   \n",
       "25%             1.0000         1.7059         6.5000         0.0000   \n",
       "50%             1.0000         2.8324         9.5000         0.5000   \n",
       "75%             2.0000         5.2143        14.5000         2.5000   \n",
       "max             9.0000        95.4341        99.9900        21.2200   \n",
       "\n",
       "          tip_amount   tolls_amount   total_amount  trip_duration  \\\n",
       "count 4,074,272.0000 4,074,272.0000 4,074,272.0000 4,074,272.0000   \n",
       "mean          3.0651         0.4294        20.3067        13.8913   \n",
       "std           2.5595         1.7009        14.4915        11.0380   \n",
       "min           0.0000         0.0000         0.4700         1.0000   \n",
       "25%           1.7600         0.0000        12.3000         6.0000   \n",
       "50%           2.3600         0.0000        15.3600        11.0000   \n",
       "75%           3.4600         0.0000        21.6000        18.0000   \n",
       "max          29.9800        66.5000       174.5400       119.0000   \n",
       "\n",
       "       trip_average_speed  tip_percentage  \n",
       "count      4,074,272.0000  4,074,272.0000  \n",
       "mean              20.3933         14.9405  \n",
       "std               10.5383          4.9944  \n",
       "min                0.0098          0.0000  \n",
       "25%               13.3576         13.0435  \n",
       "50%               17.9327         16.6621  \n",
       "75%               24.5264         16.6667  \n",
       "max              119.7352         49.8982  "
      ]
     },
     "execution_count": 111,
     "metadata": {},
     "output_type": "execute_result"
    }
   ],
   "source": [
    "numerical.head()\n",
    "numerical.describe()"
   ]
  },
  {
   "cell_type": "markdown",
   "id": "amino-container",
   "metadata": {},
   "source": [
    "#### Correlation matrix"
   ]
  },
  {
   "cell_type": "code",
   "execution_count": 112,
   "id": "scientific-lincoln",
   "metadata": {
    "scrolled": false
   },
   "outputs": [
    {
     "data": {
      "text/plain": [
       "<Figure size 560x560 with 0 Axes>"
      ]
     },
     "execution_count": 112,
     "metadata": {},
     "output_type": "execute_result"
    },
    {
     "data": {
      "text/plain": [
       "<AxesSubplot:>"
      ]
     },
     "execution_count": 112,
     "metadata": {},
     "output_type": "execute_result"
    },
    {
     "data": {
      "image/png": "[encoded data removed]",
      "text/plain": [
       "<Figure size 560x560 with 2 Axes>"
      ]
     },
     "metadata": {
      "needs_background": "light"
     },
     "output_type": "display_data"
    }
   ],
   "source": [
    "# check for multicollinearity\n",
    "corr_matrix = numerical.corr()\n",
    "# corr_matrix;\n",
    "plt.figure(figsize= (8,8), dpi= 70)\n",
    "corr_matrix = numerical.corr()\n",
    "sns.heatmap(corr_matrix, annot=True, cmap= 'magma')"
   ]
  },
  {
   "cell_type": "code",
   "execution_count": 113,
   "id": "familiar-missouri",
   "metadata": {},
   "outputs": [],
   "source": [
    "numerical = numerical.drop(['fare_amount','total_amount','tip_percentage'], axis = 1)"
   ]
  },
  {
   "cell_type": "code",
   "execution_count": 114,
   "id": "liquid-drilling",
   "metadata": {},
   "outputs": [
    {
     "data": {
      "text/plain": [
       "<Figure size 560x560 with 0 Axes>"
      ]
     },
     "execution_count": 114,
     "metadata": {},
     "output_type": "execute_result"
    },
    {
     "data": {
      "text/plain": [
       "<AxesSubplot:>"
      ]
     },
     "execution_count": 114,
     "metadata": {},
     "output_type": "execute_result"
    },
    {
     "data": {
      "image/png": "[encoded data removed]",
      "text/plain": [
       "<Figure size 560x560 with 2 Axes>"
      ]
     },
     "metadata": {
      "needs_background": "light"
     },
     "output_type": "display_data"
    }
   ],
   "source": [
    "# check for multicollinearity\n",
    "corr_matrix = numerical.corr()\n",
    "# corr_matrix;\n",
    "plt.figure(figsize= (8,8), dpi= 70)\n",
    "corr_matrix = numerical.corr()\n",
    "sns.heatmap(corr_matrix, annot=True, cmap= 'magma')"
   ]
  },
  {
   "cell_type": "code",
   "execution_count": 115,
   "id": "handy-devil",
   "metadata": {},
   "outputs": [
    {
     "data": {
      "text/plain": [
       "passenger_count       0\n",
       "trip_distance         0\n",
       "extra                 0\n",
       "tip_amount            0\n",
       "tolls_amount          0\n",
       "trip_duration         0\n",
       "trip_average_speed    0\n",
       "dtype: int64"
      ]
     },
     "execution_count": 115,
     "metadata": {},
     "output_type": "execute_result"
    },
    {
     "data": {
      "text/plain": [
       "(4074272, 7)"
      ]
     },
     "execution_count": 115,
     "metadata": {},
     "output_type": "execute_result"
    }
   ],
   "source": [
    "numerical.isnull().sum()\n",
    "numerical.shape"
   ]
  },
  {
   "cell_type": "markdown",
   "id": "micro-essence",
   "metadata": {},
   "source": [
    "### Categorical variables"
   ]
  },
  {
   "cell_type": "code",
   "execution_count": 116,
   "id": "organic-closing",
   "metadata": {},
   "outputs": [],
   "source": [
    "categorical = data.select_dtypes(np.object)"
   ]
  },
  {
   "cell_type": "code",
   "execution_count": 117,
   "id": "hawaiian-ideal",
   "metadata": {},
   "outputs": [],
   "source": [
    "categorical = data[['ratecodeID','day_part','weekday','passenger_load']]"
   ]
  },
  {
   "cell_type": "code",
   "execution_count": 118,
   "id": "discrete-double",
   "metadata": {},
   "outputs": [
    {
     "data": {
      "text/plain": [
       "ratecodeID             day_part  weekday    passenger_load      \n",
       "Standard rate          Morning   Wednesday  Individual passenger    137440\n",
       "                       Night     Friday     Individual passenger    125132\n",
       "                                 Wednesday  Individual passenger    124770\n",
       "                       Morning   Thursday   Individual passenger    119150\n",
       "                       Night     Thursday   Individual passenger    114299\n",
       "                                                                     ...  \n",
       "Nassau or Westchester  Evening   Saturday   Big group                    4\n",
       "                       Midday    Thursday   Big group                    4\n",
       "                       Evening   Tuesday    Big group                    4\n",
       "                       Morning   Tuesday    Big group                    3\n",
       "                       Evening   Sunday     Big group                    2\n",
       "Length: 525, dtype: int64"
      ]
     },
     "execution_count": 118,
     "metadata": {},
     "output_type": "execute_result"
    }
   ],
   "source": [
    "categorical.value_counts()"
   ]
  },
  {
   "cell_type": "code",
   "execution_count": 119,
   "id": "decent-printer",
   "metadata": {},
   "outputs": [
    {
     "data": {
      "text/plain": [
       "ratecodeID        0\n",
       "day_part          0\n",
       "weekday           0\n",
       "passenger_load    0\n",
       "dtype: int64"
      ]
     },
     "execution_count": 119,
     "metadata": {},
     "output_type": "execute_result"
    },
    {
     "data": {
      "text/plain": [
       "(4090903, 4)"
      ]
     },
     "execution_count": 119,
     "metadata": {},
     "output_type": "execute_result"
    }
   ],
   "source": [
    "categorical.isnull().sum()\n",
    "categorical.shape"
   ]
  },
  {
   "cell_type": "markdown",
   "id": "accessible-establishment",
   "metadata": {},
   "source": [
    "### Get final dataset for our model"
   ]
  },
  {
   "cell_type": "code",
   "execution_count": 120,
   "id": "champion-stocks",
   "metadata": {},
   "outputs": [],
   "source": [
    "numerical.reset_index(drop=True, inplace=True)\n",
    "categorical.reset_index(drop=True, inplace=True)"
   ]
  },
  {
   "cell_type": "code",
   "execution_count": 121,
   "id": "vanilla-tuition",
   "metadata": {},
   "outputs": [
    {
     "data": {
      "text/plain": [
       "(4074272, 11)"
      ]
     },
     "execution_count": 121,
     "metadata": {},
     "output_type": "execute_result"
    },
    {
     "data": {
      "text/html": [
       "<div>\n",
       "<style scoped>\n",
       "    .dataframe tbody tr th:only-of-type {\n",
       "        vertical-align: middle;\n",
       "    }\n",
       "\n",
       "    .dataframe tbody tr th {\n",
       "        vertical-align: top;\n",
       "    }\n",
       "\n",
       "    .dataframe thead th {\n",
       "        text-align: right;\n",
       "    }\n",
       "</style>\n",
       "<table border=\"1\" class=\"dataframe\">\n",
       "  <thead>\n",
       "    <tr style=\"text-align: right;\">\n",
       "      <th></th>\n",
       "      <th>passenger_count</th>\n",
       "      <th>trip_distance</th>\n",
       "      <th>extra</th>\n",
       "      <th>tip_amount</th>\n",
       "      <th>tolls_amount</th>\n",
       "      <th>trip_duration</th>\n",
       "      <th>trip_average_speed</th>\n",
       "      <th>ratecodeID</th>\n",
       "      <th>day_part</th>\n",
       "      <th>weekday</th>\n",
       "      <th>passenger_load</th>\n",
       "    </tr>\n",
       "  </thead>\n",
       "  <tbody>\n",
       "    <tr>\n",
       "      <th>0</th>\n",
       "      <td>1.0000</td>\n",
       "      <td>11.7482</td>\n",
       "      <td>3.0000</td>\n",
       "      <td>7.9500</td>\n",
       "      <td>0.0000</td>\n",
       "      <td>34.0000</td>\n",
       "      <td>20.7321</td>\n",
       "      <td>Standard rate</td>\n",
       "      <td>Night</td>\n",
       "      <td>Wednesday</td>\n",
       "      <td>Individual passenger</td>\n",
       "    </tr>\n",
       "    <tr>\n",
       "      <th>1</th>\n",
       "      <td>1.0000</td>\n",
       "      <td>10.4607</td>\n",
       "      <td>3.0000</td>\n",
       "      <td>4.3200</td>\n",
       "      <td>0.0000</td>\n",
       "      <td>31.0000</td>\n",
       "      <td>20.2466</td>\n",
       "      <td>Standard rate</td>\n",
       "      <td>Night</td>\n",
       "      <td>Wednesday</td>\n",
       "      <td>Individual passenger</td>\n",
       "    </tr>\n",
       "    <tr>\n",
       "      <th>2</th>\n",
       "      <td>1.0000</td>\n",
       "      <td>3.3796</td>\n",
       "      <td>3.0000</td>\n",
       "      <td>2.0000</td>\n",
       "      <td>0.0000</td>\n",
       "      <td>11.0000</td>\n",
       "      <td>18.4343</td>\n",
       "      <td>Standard rate</td>\n",
       "      <td>Night</td>\n",
       "      <td>Wednesday</td>\n",
       "      <td>Individual passenger</td>\n",
       "    </tr>\n",
       "    <tr>\n",
       "      <th>3</th>\n",
       "      <td>1.0000</td>\n",
       "      <td>0.9978</td>\n",
       "      <td>0.5000</td>\n",
       "      <td>2.4900</td>\n",
       "      <td>0.0000</td>\n",
       "      <td>2.0000</td>\n",
       "      <td>29.9338</td>\n",
       "      <td>Standard rate</td>\n",
       "      <td>Night</td>\n",
       "      <td>Wednesday</td>\n",
       "      <td>Individual passenger</td>\n",
       "    </tr>\n",
       "    <tr>\n",
       "      <th>4</th>\n",
       "      <td>1.0000</td>\n",
       "      <td>2.8968</td>\n",
       "      <td>3.0000</td>\n",
       "      <td>2.6500</td>\n",
       "      <td>0.0000</td>\n",
       "      <td>11.0000</td>\n",
       "      <td>15.8008</td>\n",
       "      <td>Standard rate</td>\n",
       "      <td>Night</td>\n",
       "      <td>Wednesday</td>\n",
       "      <td>Individual passenger</td>\n",
       "    </tr>\n",
       "  </tbody>\n",
       "</table>\n",
       "</div>"
      ],
      "text/plain": [
       "   passenger_count  trip_distance  extra  tip_amount  tolls_amount  \\\n",
       "0           1.0000        11.7482 3.0000      7.9500        0.0000   \n",
       "1           1.0000        10.4607 3.0000      4.3200        0.0000   \n",
       "2           1.0000         3.3796 3.0000      2.0000        0.0000   \n",
       "3           1.0000         0.9978 0.5000      2.4900        0.0000   \n",
       "4           1.0000         2.8968 3.0000      2.6500        0.0000   \n",
       "\n",
       "   trip_duration  trip_average_speed     ratecodeID day_part    weekday  \\\n",
       "0        34.0000             20.7321  Standard rate    Night  Wednesday   \n",
       "1        31.0000             20.2466  Standard rate    Night  Wednesday   \n",
       "2        11.0000             18.4343  Standard rate    Night  Wednesday   \n",
       "3         2.0000             29.9338  Standard rate    Night  Wednesday   \n",
       "4        11.0000             15.8008  Standard rate    Night  Wednesday   \n",
       "\n",
       "         passenger_load  \n",
       "0  Individual passenger  \n",
       "1  Individual passenger  \n",
       "2  Individual passenger  \n",
       "3  Individual passenger  \n",
       "4  Individual passenger  "
      ]
     },
     "execution_count": 121,
     "metadata": {},
     "output_type": "execute_result"
    }
   ],
   "source": [
    "# final_data = pd.concat([numerical,categorical], axis=1)\n",
    "# final_data.shape\n",
    "# final_data.head()\n",
    "# final_data.isnull().sum()\n",
    "\n",
    "# we need to merge beacuse we got rid of many outliers so now the numerical and categorical rows don't match\n",
    "final_data = pd.merge(numerical,categorical,left_index=True, right_index=True)\n",
    "final_data.shape\n",
    "final_data.head()"
   ]
  },
  {
   "cell_type": "code",
   "execution_count": 122,
   "id": "piano-drawing",
   "metadata": {},
   "outputs": [],
   "source": [
    "# final_data.to_csv('taxi_model.csv', index = False)"
   ]
  },
  {
   "cell_type": "markdown",
   "id": "suitable-citizenship",
   "metadata": {},
   "source": [
    "## Export data for visualization"
   ]
  },
  {
   "cell_type": "code",
   "execution_count": 123,
   "id": "collaborative-psychiatry",
   "metadata": {},
   "outputs": [],
   "source": [
    "# we run everything again and avoided dropping fare_amount and trip_distance\n",
    "\n",
    "# rest = data[['PULocationID','DOLocationID','tpep_pickup_datetime','tpep_dropoff_datetime','pickup_time','pickup_date']]"
   ]
  },
  {
   "cell_type": "code",
   "execution_count": 124,
   "id": "reliable-contamination",
   "metadata": {},
   "outputs": [],
   "source": [
    "# rest.shape"
   ]
  },
  {
   "cell_type": "code",
   "execution_count": 125,
   "id": "powered-classroom",
   "metadata": {},
   "outputs": [],
   "source": [
    "# final_data.reset_index(drop=True, inplace=True)\n",
    "# rest.reset_index(drop=True, inplace=True)"
   ]
  },
  {
   "cell_type": "code",
   "execution_count": 126,
   "id": "accepted-prototype",
   "metadata": {},
   "outputs": [],
   "source": [
    "# data_visual = pd.merge(final_data,rest,left_index=True, right_index=True)\n",
    "# data_visual.shape\n",
    "# data_visual.head()"
   ]
  },
  {
   "cell_type": "code",
   "execution_count": 127,
   "id": "yellow-default",
   "metadata": {},
   "outputs": [],
   "source": [
    "# data_visual = data_visual.sample(n=100000, random_state=1)\n",
    "# data_visual.shape"
   ]
  },
  {
   "cell_type": "code",
   "execution_count": 128,
   "id": "amended-philippines",
   "metadata": {},
   "outputs": [],
   "source": [
    "# data_visual.to_csv('taxi_visual.csv', index = False)"
   ]
  },
  {
   "cell_type": "markdown",
   "id": "hispanic-default",
   "metadata": {},
   "source": [
    "## DATA TRANSFORMATION"
   ]
  },
  {
   "cell_type": "markdown",
   "id": "clean-input",
   "metadata": {},
   "source": [
    "#### Separate x/y"
   ]
  },
  {
   "cell_type": "code",
   "execution_count": 129,
   "id": "urban-dimension",
   "metadata": {},
   "outputs": [
    {
     "data": {
      "text/plain": [
       "(4074272,)"
      ]
     },
     "execution_count": 129,
     "metadata": {},
     "output_type": "execute_result"
    },
    {
     "data": {
      "text/plain": [
       "(4074272, 10)"
      ]
     },
     "execution_count": 129,
     "metadata": {},
     "output_type": "execute_result"
    }
   ],
   "source": [
    "y = final_data['tip_amount']\n",
    "X= final_data.drop(['tip_amount'], axis=1)\n",
    "y.shape\n",
    "X.shape"
   ]
  },
  {
   "cell_type": "markdown",
   "id": "crude-commodity",
   "metadata": {},
   "source": [
    "#### Train, test split "
   ]
  },
  {
   "cell_type": "code",
   "execution_count": 130,
   "id": "documented-evidence",
   "metadata": {},
   "outputs": [
    {
     "data": {
      "text/html": [
       "<div>\n",
       "<style scoped>\n",
       "    .dataframe tbody tr th:only-of-type {\n",
       "        vertical-align: middle;\n",
       "    }\n",
       "\n",
       "    .dataframe tbody tr th {\n",
       "        vertical-align: top;\n",
       "    }\n",
       "\n",
       "    .dataframe thead th {\n",
       "        text-align: right;\n",
       "    }\n",
       "</style>\n",
       "<table border=\"1\" class=\"dataframe\">\n",
       "  <thead>\n",
       "    <tr style=\"text-align: right;\">\n",
       "      <th></th>\n",
       "      <th>passenger_count</th>\n",
       "      <th>trip_distance</th>\n",
       "      <th>extra</th>\n",
       "      <th>tolls_amount</th>\n",
       "      <th>trip_duration</th>\n",
       "      <th>trip_average_speed</th>\n",
       "      <th>ratecodeID</th>\n",
       "      <th>day_part</th>\n",
       "      <th>weekday</th>\n",
       "      <th>passenger_load</th>\n",
       "    </tr>\n",
       "  </thead>\n",
       "  <tbody>\n",
       "    <tr>\n",
       "      <th>132878</th>\n",
       "      <td>1.0000</td>\n",
       "      <td>6.1155</td>\n",
       "      <td>3.0000</td>\n",
       "      <td>0.0000</td>\n",
       "      <td>26.0000</td>\n",
       "      <td>14.1127</td>\n",
       "      <td>Standard rate</td>\n",
       "      <td>Evening</td>\n",
       "      <td>Wednesday</td>\n",
       "      <td>Individual passenger</td>\n",
       "    </tr>\n",
       "    <tr>\n",
       "      <th>4062524</th>\n",
       "      <td>1.0000</td>\n",
       "      <td>1.8186</td>\n",
       "      <td>0.5000</td>\n",
       "      <td>0.0000</td>\n",
       "      <td>5.0000</td>\n",
       "      <td>21.8227</td>\n",
       "      <td>Standard rate</td>\n",
       "      <td>Evening</td>\n",
       "      <td>Friday</td>\n",
       "      <td>Individual passenger</td>\n",
       "    </tr>\n",
       "    <tr>\n",
       "      <th>1658680</th>\n",
       "      <td>1.0000</td>\n",
       "      <td>2.0600</td>\n",
       "      <td>0.0000</td>\n",
       "      <td>0.0000</td>\n",
       "      <td>10.0000</td>\n",
       "      <td>12.3598</td>\n",
       "      <td>Standard rate</td>\n",
       "      <td>Morning</td>\n",
       "      <td>Monday</td>\n",
       "      <td>Individual passenger</td>\n",
       "    </tr>\n",
       "    <tr>\n",
       "      <th>1841722</th>\n",
       "      <td>1.0000</td>\n",
       "      <td>1.4323</td>\n",
       "      <td>0.0000</td>\n",
       "      <td>0.0000</td>\n",
       "      <td>6.0000</td>\n",
       "      <td>14.3232</td>\n",
       "      <td>Standard rate</td>\n",
       "      <td>Midday</td>\n",
       "      <td>Tuesday</td>\n",
       "      <td>Individual passenger</td>\n",
       "    </tr>\n",
       "    <tr>\n",
       "      <th>3261365</th>\n",
       "      <td>1.0000</td>\n",
       "      <td>17.1556</td>\n",
       "      <td>0.0000</td>\n",
       "      <td>6.1200</td>\n",
       "      <td>22.0000</td>\n",
       "      <td>46.7880</td>\n",
       "      <td>Standard rate</td>\n",
       "      <td>Night</td>\n",
       "      <td>Saturday</td>\n",
       "      <td>Individual passenger</td>\n",
       "    </tr>\n",
       "  </tbody>\n",
       "</table>\n",
       "</div>"
      ],
      "text/plain": [
       "         passenger_count  trip_distance  extra  tolls_amount  trip_duration  \\\n",
       "132878            1.0000         6.1155 3.0000        0.0000        26.0000   \n",
       "4062524           1.0000         1.8186 0.5000        0.0000         5.0000   \n",
       "1658680           1.0000         2.0600 0.0000        0.0000        10.0000   \n",
       "1841722           1.0000         1.4323 0.0000        0.0000         6.0000   \n",
       "3261365           1.0000        17.1556 0.0000        6.1200        22.0000   \n",
       "\n",
       "         trip_average_speed     ratecodeID day_part    weekday  \\\n",
       "132878              14.1127  Standard rate  Evening  Wednesday   \n",
       "4062524             21.8227  Standard rate  Evening     Friday   \n",
       "1658680             12.3598  Standard rate  Morning     Monday   \n",
       "1841722             14.3232  Standard rate   Midday    Tuesday   \n",
       "3261365             46.7880  Standard rate    Night   Saturday   \n",
       "\n",
       "               passenger_load  \n",
       "132878   Individual passenger  \n",
       "4062524  Individual passenger  \n",
       "1658680  Individual passenger  \n",
       "1841722  Individual passenger  \n",
       "3261365  Individual passenger  "
      ]
     },
     "execution_count": 130,
     "metadata": {},
     "output_type": "execute_result"
    }
   ],
   "source": [
    "# Splitting into train set and test set.\n",
    "from sklearn.model_selection import train_test_split\n",
    "X_train, X_test, y_train, y_test = train_test_split(X, y, test_size=0.25, random_state=100)\n",
    "X_train.head()"
   ]
  },
  {
   "cell_type": "markdown",
   "id": "refined-canon",
   "metadata": {},
   "source": [
    "### Train dataset"
   ]
  },
  {
   "cell_type": "markdown",
   "id": "acting-youth",
   "metadata": {},
   "source": [
    "#### Select numerical variables in the train"
   ]
  },
  {
   "cell_type": "code",
   "execution_count": 131,
   "id": "creative-credit",
   "metadata": {},
   "outputs": [
    {
     "data": {
      "text/plain": [
       "(3055704, 6)"
      ]
     },
     "execution_count": 131,
     "metadata": {},
     "output_type": "execute_result"
    }
   ],
   "source": [
    "numerical_train = X_train.select_dtypes(include = np.number)\n",
    "numerical_train.shape"
   ]
  },
  {
   "cell_type": "markdown",
   "id": "moral-penny",
   "metadata": {},
   "source": [
    "##### Apply transformation to numericals "
   ]
  },
  {
   "cell_type": "code",
   "execution_count": 132,
   "id": "sitting-collective",
   "metadata": {},
   "outputs": [
    {
     "name": "stdout",
     "output_type": "stream",
     "text": [
      "(3055704, 6)\n"
     ]
    },
    {
     "data": {
      "text/html": [
       "<div>\n",
       "<style scoped>\n",
       "    .dataframe tbody tr th:only-of-type {\n",
       "        vertical-align: middle;\n",
       "    }\n",
       "\n",
       "    .dataframe tbody tr th {\n",
       "        vertical-align: top;\n",
       "    }\n",
       "\n",
       "    .dataframe thead th {\n",
       "        text-align: right;\n",
       "    }\n",
       "</style>\n",
       "<table border=\"1\" class=\"dataframe\">\n",
       "  <thead>\n",
       "    <tr style=\"text-align: right;\">\n",
       "      <th></th>\n",
       "      <th>passenger_count</th>\n",
       "      <th>trip_distance</th>\n",
       "      <th>extra</th>\n",
       "      <th>tolls_amount</th>\n",
       "      <th>trip_duration</th>\n",
       "      <th>trip_average_speed</th>\n",
       "    </tr>\n",
       "  </thead>\n",
       "  <tbody>\n",
       "    <tr>\n",
       "      <th>count</th>\n",
       "      <td>3,055,704.0000</td>\n",
       "      <td>3,055,704.0000</td>\n",
       "      <td>3,055,704.0000</td>\n",
       "      <td>3,055,704.0000</td>\n",
       "      <td>3,055,704.0000</td>\n",
       "      <td>3,055,704.0000</td>\n",
       "    </tr>\n",
       "    <tr>\n",
       "      <th>mean</th>\n",
       "      <td>0.0000</td>\n",
       "      <td>-0.0000</td>\n",
       "      <td>0.0000</td>\n",
       "      <td>-0.0000</td>\n",
       "      <td>0.0000</td>\n",
       "      <td>-0.0000</td>\n",
       "    </tr>\n",
       "    <tr>\n",
       "      <th>std</th>\n",
       "      <td>1.0000</td>\n",
       "      <td>1.0000</td>\n",
       "      <td>1.0000</td>\n",
       "      <td>1.0000</td>\n",
       "      <td>1.0000</td>\n",
       "      <td>1.0000</td>\n",
       "    </tr>\n",
       "    <tr>\n",
       "      <th>min</th>\n",
       "      <td>-0.4871</td>\n",
       "      <td>-0.8012</td>\n",
       "      <td>-0.9190</td>\n",
       "      <td>-0.2522</td>\n",
       "      <td>-1.1682</td>\n",
       "      <td>-1.9346</td>\n",
       "    </tr>\n",
       "    <tr>\n",
       "      <th>25%</th>\n",
       "      <td>-0.4871</td>\n",
       "      <td>-0.5345</td>\n",
       "      <td>-0.9190</td>\n",
       "      <td>-0.2522</td>\n",
       "      <td>-0.7150</td>\n",
       "      <td>-0.6679</td>\n",
       "    </tr>\n",
       "    <tr>\n",
       "      <th>50%</th>\n",
       "      <td>-0.4871</td>\n",
       "      <td>-0.3567</td>\n",
       "      <td>-0.5243</td>\n",
       "      <td>-0.2522</td>\n",
       "      <td>-0.2618</td>\n",
       "      <td>-0.2330</td>\n",
       "    </tr>\n",
       "    <tr>\n",
       "      <th>75%</th>\n",
       "      <td>0.3485</td>\n",
       "      <td>0.0167</td>\n",
       "      <td>1.0542</td>\n",
       "      <td>-0.2522</td>\n",
       "      <td>0.3727</td>\n",
       "      <td>0.3929</td>\n",
       "    </tr>\n",
       "    <tr>\n",
       "      <th>max</th>\n",
       "      <td>6.1979</td>\n",
       "      <td>14.2587</td>\n",
       "      <td>15.8289</td>\n",
       "      <td>38.8966</td>\n",
       "      <td>9.5273</td>\n",
       "      <td>9.4316</td>\n",
       "    </tr>\n",
       "  </tbody>\n",
       "</table>\n",
       "</div>"
      ],
      "text/plain": [
       "       passenger_count  trip_distance          extra   tolls_amount  \\\n",
       "count   3,055,704.0000 3,055,704.0000 3,055,704.0000 3,055,704.0000   \n",
       "mean            0.0000        -0.0000         0.0000        -0.0000   \n",
       "std             1.0000         1.0000         1.0000         1.0000   \n",
       "min            -0.4871        -0.8012        -0.9190        -0.2522   \n",
       "25%            -0.4871        -0.5345        -0.9190        -0.2522   \n",
       "50%            -0.4871        -0.3567        -0.5243        -0.2522   \n",
       "75%             0.3485         0.0167         1.0542        -0.2522   \n",
       "max             6.1979        14.2587        15.8289        38.8966   \n",
       "\n",
       "       trip_duration  trip_average_speed  \n",
       "count 3,055,704.0000      3,055,704.0000  \n",
       "mean          0.0000             -0.0000  \n",
       "std           1.0000              1.0000  \n",
       "min          -1.1682             -1.9346  \n",
       "25%          -0.7150             -0.6679  \n",
       "50%          -0.2618             -0.2330  \n",
       "75%           0.3727              0.3929  \n",
       "max           9.5273              9.4316  "
      ]
     },
     "execution_count": 132,
     "metadata": {},
     "output_type": "execute_result"
    }
   ],
   "source": [
    "# scaling standard scaler: make data normal distributed with mean=0 and std=1\n",
    "transformer = StandardScaler().fit(numerical_train)\n",
    "num_standardized = transformer.transform(numerical_train)\n",
    "print(num_standardized.shape)\n",
    "train_num_stand = pd.DataFrame(num_standardized, columns=numerical_train.columns)\n",
    "train_num_stand.describe()"
   ]
  },
  {
   "cell_type": "markdown",
   "id": "adjacent-malawi",
   "metadata": {},
   "source": [
    "#### Select categorical variables in the train and test"
   ]
  },
  {
   "cell_type": "code",
   "execution_count": 133,
   "id": "right-surveillance",
   "metadata": {},
   "outputs": [
    {
     "data": {
      "text/plain": [
       "(3055704, 4)"
      ]
     },
     "execution_count": 133,
     "metadata": {},
     "output_type": "execute_result"
    }
   ],
   "source": [
    "categorical_train = X_train.select_dtypes(include = np.object)\n",
    "categorical_train.shape"
   ]
  },
  {
   "cell_type": "markdown",
   "id": "comic-conservative",
   "metadata": {},
   "source": [
    "##### Encode categoricals"
   ]
  },
  {
   "cell_type": "code",
   "execution_count": 134,
   "id": "activated-kenya",
   "metadata": {},
   "outputs": [
    {
     "data": {
      "text/plain": [
       "(3055704, 20)"
      ]
     },
     "execution_count": 134,
     "metadata": {},
     "output_type": "execute_result"
    },
    {
     "data": {
      "text/html": [
       "<div>\n",
       "<style scoped>\n",
       "    .dataframe tbody tr th:only-of-type {\n",
       "        vertical-align: middle;\n",
       "    }\n",
       "\n",
       "    .dataframe tbody tr th {\n",
       "        vertical-align: top;\n",
       "    }\n",
       "\n",
       "    .dataframe thead th {\n",
       "        text-align: right;\n",
       "    }\n",
       "</style>\n",
       "<table border=\"1\" class=\"dataframe\">\n",
       "  <thead>\n",
       "    <tr style=\"text-align: right;\">\n",
       "      <th></th>\n",
       "      <th>JFK Airport</th>\n",
       "      <th>Nassau or Westchester</th>\n",
       "      <th>Negotiated fare</th>\n",
       "      <th>Newark</th>\n",
       "      <th>Standard rate</th>\n",
       "      <th>Afternoon</th>\n",
       "      <th>Evening</th>\n",
       "      <th>Midday</th>\n",
       "      <th>Morning</th>\n",
       "      <th>Night</th>\n",
       "      <th>Friday</th>\n",
       "      <th>Monday</th>\n",
       "      <th>Saturday</th>\n",
       "      <th>Sunday</th>\n",
       "      <th>Thursday</th>\n",
       "      <th>Tuesday</th>\n",
       "      <th>Wednesday</th>\n",
       "      <th>Big group</th>\n",
       "      <th>Individual passenger</th>\n",
       "      <th>Small group</th>\n",
       "    </tr>\n",
       "  </thead>\n",
       "  <tbody>\n",
       "    <tr>\n",
       "      <th>0</th>\n",
       "      <td>0.0000</td>\n",
       "      <td>0.0000</td>\n",
       "      <td>0.0000</td>\n",
       "      <td>0.0000</td>\n",
       "      <td>1.0000</td>\n",
       "      <td>0.0000</td>\n",
       "      <td>1.0000</td>\n",
       "      <td>0.0000</td>\n",
       "      <td>0.0000</td>\n",
       "      <td>0.0000</td>\n",
       "      <td>0.0000</td>\n",
       "      <td>0.0000</td>\n",
       "      <td>0.0000</td>\n",
       "      <td>0.0000</td>\n",
       "      <td>0.0000</td>\n",
       "      <td>0.0000</td>\n",
       "      <td>1.0000</td>\n",
       "      <td>0.0000</td>\n",
       "      <td>1.0000</td>\n",
       "      <td>0.0000</td>\n",
       "    </tr>\n",
       "    <tr>\n",
       "      <th>1</th>\n",
       "      <td>0.0000</td>\n",
       "      <td>0.0000</td>\n",
       "      <td>0.0000</td>\n",
       "      <td>0.0000</td>\n",
       "      <td>1.0000</td>\n",
       "      <td>0.0000</td>\n",
       "      <td>1.0000</td>\n",
       "      <td>0.0000</td>\n",
       "      <td>0.0000</td>\n",
       "      <td>0.0000</td>\n",
       "      <td>1.0000</td>\n",
       "      <td>0.0000</td>\n",
       "      <td>0.0000</td>\n",
       "      <td>0.0000</td>\n",
       "      <td>0.0000</td>\n",
       "      <td>0.0000</td>\n",
       "      <td>0.0000</td>\n",
       "      <td>0.0000</td>\n",
       "      <td>1.0000</td>\n",
       "      <td>0.0000</td>\n",
       "    </tr>\n",
       "    <tr>\n",
       "      <th>2</th>\n",
       "      <td>0.0000</td>\n",
       "      <td>0.0000</td>\n",
       "      <td>0.0000</td>\n",
       "      <td>0.0000</td>\n",
       "      <td>1.0000</td>\n",
       "      <td>0.0000</td>\n",
       "      <td>0.0000</td>\n",
       "      <td>0.0000</td>\n",
       "      <td>1.0000</td>\n",
       "      <td>0.0000</td>\n",
       "      <td>0.0000</td>\n",
       "      <td>1.0000</td>\n",
       "      <td>0.0000</td>\n",
       "      <td>0.0000</td>\n",
       "      <td>0.0000</td>\n",
       "      <td>0.0000</td>\n",
       "      <td>0.0000</td>\n",
       "      <td>0.0000</td>\n",
       "      <td>1.0000</td>\n",
       "      <td>0.0000</td>\n",
       "    </tr>\n",
       "    <tr>\n",
       "      <th>3</th>\n",
       "      <td>0.0000</td>\n",
       "      <td>0.0000</td>\n",
       "      <td>0.0000</td>\n",
       "      <td>0.0000</td>\n",
       "      <td>1.0000</td>\n",
       "      <td>0.0000</td>\n",
       "      <td>0.0000</td>\n",
       "      <td>1.0000</td>\n",
       "      <td>0.0000</td>\n",
       "      <td>0.0000</td>\n",
       "      <td>0.0000</td>\n",
       "      <td>0.0000</td>\n",
       "      <td>0.0000</td>\n",
       "      <td>0.0000</td>\n",
       "      <td>0.0000</td>\n",
       "      <td>1.0000</td>\n",
       "      <td>0.0000</td>\n",
       "      <td>0.0000</td>\n",
       "      <td>1.0000</td>\n",
       "      <td>0.0000</td>\n",
       "    </tr>\n",
       "    <tr>\n",
       "      <th>4</th>\n",
       "      <td>0.0000</td>\n",
       "      <td>0.0000</td>\n",
       "      <td>0.0000</td>\n",
       "      <td>0.0000</td>\n",
       "      <td>1.0000</td>\n",
       "      <td>0.0000</td>\n",
       "      <td>0.0000</td>\n",
       "      <td>0.0000</td>\n",
       "      <td>0.0000</td>\n",
       "      <td>1.0000</td>\n",
       "      <td>0.0000</td>\n",
       "      <td>0.0000</td>\n",
       "      <td>1.0000</td>\n",
       "      <td>0.0000</td>\n",
       "      <td>0.0000</td>\n",
       "      <td>0.0000</td>\n",
       "      <td>0.0000</td>\n",
       "      <td>0.0000</td>\n",
       "      <td>1.0000</td>\n",
       "      <td>0.0000</td>\n",
       "    </tr>\n",
       "  </tbody>\n",
       "</table>\n",
       "</div>"
      ],
      "text/plain": [
       "   JFK Airport  Nassau or Westchester  Negotiated fare  Newark  Standard rate  \\\n",
       "0       0.0000                 0.0000           0.0000  0.0000         1.0000   \n",
       "1       0.0000                 0.0000           0.0000  0.0000         1.0000   \n",
       "2       0.0000                 0.0000           0.0000  0.0000         1.0000   \n",
       "3       0.0000                 0.0000           0.0000  0.0000         1.0000   \n",
       "4       0.0000                 0.0000           0.0000  0.0000         1.0000   \n",
       "\n",
       "   Afternoon  Evening  Midday  Morning  Night  Friday  Monday  Saturday  \\\n",
       "0     0.0000   1.0000  0.0000   0.0000 0.0000  0.0000  0.0000    0.0000   \n",
       "1     0.0000   1.0000  0.0000   0.0000 0.0000  1.0000  0.0000    0.0000   \n",
       "2     0.0000   0.0000  0.0000   1.0000 0.0000  0.0000  1.0000    0.0000   \n",
       "3     0.0000   0.0000  1.0000   0.0000 0.0000  0.0000  0.0000    0.0000   \n",
       "4     0.0000   0.0000  0.0000   0.0000 1.0000  0.0000  0.0000    1.0000   \n",
       "\n",
       "   Sunday  Thursday  Tuesday  Wednesday  Big group  Individual passenger  \\\n",
       "0  0.0000    0.0000   0.0000     1.0000     0.0000                1.0000   \n",
       "1  0.0000    0.0000   0.0000     0.0000     0.0000                1.0000   \n",
       "2  0.0000    0.0000   0.0000     0.0000     0.0000                1.0000   \n",
       "3  0.0000    0.0000   1.0000     0.0000     0.0000                1.0000   \n",
       "4  0.0000    0.0000   0.0000     0.0000     0.0000                1.0000   \n",
       "\n",
       "   Small group  \n",
       "0       0.0000  \n",
       "1       0.0000  \n",
       "2       0.0000  \n",
       "3       0.0000  \n",
       "4       0.0000  "
      ]
     },
     "execution_count": 134,
     "metadata": {},
     "output_type": "execute_result"
    }
   ],
   "source": [
    "from sklearn.preprocessing import OneHotEncoder\n",
    "encoder = OneHotEncoder().fit(categorical_train)\n",
    "train_onehot = encoder.transform(categorical_train).toarray()\n",
    "enc = [columname for sublist in encoder.categories_ for columname in sublist]\n",
    "train_onehot = pd.DataFrame(train_onehot,columns=enc)\n",
    "train_onehot.shape\n",
    "train_onehot.head()"
   ]
  },
  {
   "cell_type": "markdown",
   "id": "built-hopkins",
   "metadata": {},
   "source": [
    "#### Get final train dataset"
   ]
  },
  {
   "cell_type": "code",
   "execution_count": 135,
   "id": "liquid-backing",
   "metadata": {},
   "outputs": [],
   "source": [
    "numerical_train.reset_index(drop=True, inplace=True)\n",
    "train_onehot.reset_index(drop=True, inplace=True)"
   ]
  },
  {
   "cell_type": "code",
   "execution_count": 136,
   "id": "corporate-hawaiian",
   "metadata": {},
   "outputs": [
    {
     "data": {
      "text/plain": [
       "(3055704, 26)"
      ]
     },
     "execution_count": 136,
     "metadata": {},
     "output_type": "execute_result"
    },
    {
     "data": {
      "text/plain": [
       "passenger_count          0\n",
       "trip_distance            0\n",
       "extra                    0\n",
       "tolls_amount             0\n",
       "trip_duration            0\n",
       "trip_average_speed       0\n",
       "JFK Airport              0\n",
       "Nassau or Westchester    0\n",
       "Negotiated fare          0\n",
       "Newark                   0\n",
       "Standard rate            0\n",
       "Afternoon                0\n",
       "Evening                  0\n",
       "Midday                   0\n",
       "Morning                  0\n",
       "Night                    0\n",
       "Friday                   0\n",
       "Monday                   0\n",
       "Saturday                 0\n",
       "Sunday                   0\n",
       "Thursday                 0\n",
       "Tuesday                  0\n",
       "Wednesday                0\n",
       "Big group                0\n",
       "Individual passenger     0\n",
       "Small group              0\n",
       "dtype: int64"
      ]
     },
     "execution_count": 136,
     "metadata": {},
     "output_type": "execute_result"
    }
   ],
   "source": [
    "X_train_preproc = pd.concat([train_num_stand,train_onehot], axis= 1)\n",
    "X_train_preproc.shape\n",
    "X_train_preproc.isnull().sum()"
   ]
  },
  {
   "cell_type": "markdown",
   "id": "working-allen",
   "metadata": {},
   "source": [
    "### VALIDATION"
   ]
  },
  {
   "cell_type": "markdown",
   "id": "based-worst",
   "metadata": {},
   "source": [
    "#### Select numerical variables in the test"
   ]
  },
  {
   "cell_type": "code",
   "execution_count": 137,
   "id": "orange-material",
   "metadata": {},
   "outputs": [
    {
     "data": {
      "text/plain": [
       "(1018568, 6)"
      ]
     },
     "execution_count": 137,
     "metadata": {},
     "output_type": "execute_result"
    }
   ],
   "source": [
    "numerical_test = X_test.select_dtypes(include = np.number)\n",
    "numerical_test.shape"
   ]
  },
  {
   "cell_type": "markdown",
   "id": "gorgeous-chrome",
   "metadata": {},
   "source": [
    "##### Apply transformation to numericals "
   ]
  },
  {
   "cell_type": "code",
   "execution_count": 138,
   "id": "continued-milan",
   "metadata": {},
   "outputs": [
    {
     "name": "stdout",
     "output_type": "stream",
     "text": [
      "(1018568, 6)\n"
     ]
    }
   ],
   "source": [
    "# scaling standard scaler: make data normal distributed with mean=0 and std=1\n",
    "test_num_standardized = transformer.transform(numerical_test)\n",
    "print(test_num_standardized.shape)\n",
    "test_num_stand = pd.DataFrame(test_num_standardized, columns=numerical_test.columns)"
   ]
  },
  {
   "cell_type": "markdown",
   "id": "pharmaceutical-plasma",
   "metadata": {},
   "source": [
    "#### Select categorical variables in the test"
   ]
  },
  {
   "cell_type": "code",
   "execution_count": 139,
   "id": "cloudy-google",
   "metadata": {},
   "outputs": [
    {
     "data": {
      "text/plain": [
       "(1018568, 4)"
      ]
     },
     "execution_count": 139,
     "metadata": {},
     "output_type": "execute_result"
    }
   ],
   "source": [
    "categorical_test = X_test.select_dtypes(include = np.object)\n",
    "categorical_test.shape"
   ]
  },
  {
   "cell_type": "markdown",
   "id": "social-stephen",
   "metadata": {},
   "source": [
    "##### Encode categoricals"
   ]
  },
  {
   "cell_type": "code",
   "execution_count": 140,
   "id": "subsequent-bubble",
   "metadata": {},
   "outputs": [
    {
     "data": {
      "text/plain": [
       "(1018568, 20)"
      ]
     },
     "execution_count": 140,
     "metadata": {},
     "output_type": "execute_result"
    },
    {
     "data": {
      "text/html": [
       "<div>\n",
       "<style scoped>\n",
       "    .dataframe tbody tr th:only-of-type {\n",
       "        vertical-align: middle;\n",
       "    }\n",
       "\n",
       "    .dataframe tbody tr th {\n",
       "        vertical-align: top;\n",
       "    }\n",
       "\n",
       "    .dataframe thead th {\n",
       "        text-align: right;\n",
       "    }\n",
       "</style>\n",
       "<table border=\"1\" class=\"dataframe\">\n",
       "  <thead>\n",
       "    <tr style=\"text-align: right;\">\n",
       "      <th></th>\n",
       "      <th>JFK Airport</th>\n",
       "      <th>Nassau or Westchester</th>\n",
       "      <th>Negotiated fare</th>\n",
       "      <th>Newark</th>\n",
       "      <th>Standard rate</th>\n",
       "      <th>Afternoon</th>\n",
       "      <th>Evening</th>\n",
       "      <th>Midday</th>\n",
       "      <th>Morning</th>\n",
       "      <th>Night</th>\n",
       "      <th>Friday</th>\n",
       "      <th>Monday</th>\n",
       "      <th>Saturday</th>\n",
       "      <th>Sunday</th>\n",
       "      <th>Thursday</th>\n",
       "      <th>Tuesday</th>\n",
       "      <th>Wednesday</th>\n",
       "      <th>Big group</th>\n",
       "      <th>Individual passenger</th>\n",
       "      <th>Small group</th>\n",
       "    </tr>\n",
       "  </thead>\n",
       "  <tbody>\n",
       "    <tr>\n",
       "      <th>0</th>\n",
       "      <td>0.0000</td>\n",
       "      <td>0.0000</td>\n",
       "      <td>0.0000</td>\n",
       "      <td>0.0000</td>\n",
       "      <td>1.0000</td>\n",
       "      <td>1.0000</td>\n",
       "      <td>0.0000</td>\n",
       "      <td>0.0000</td>\n",
       "      <td>0.0000</td>\n",
       "      <td>0.0000</td>\n",
       "      <td>1.0000</td>\n",
       "      <td>0.0000</td>\n",
       "      <td>0.0000</td>\n",
       "      <td>0.0000</td>\n",
       "      <td>0.0000</td>\n",
       "      <td>0.0000</td>\n",
       "      <td>0.0000</td>\n",
       "      <td>0.0000</td>\n",
       "      <td>0.0000</td>\n",
       "      <td>1.0000</td>\n",
       "    </tr>\n",
       "    <tr>\n",
       "      <th>1</th>\n",
       "      <td>0.0000</td>\n",
       "      <td>0.0000</td>\n",
       "      <td>0.0000</td>\n",
       "      <td>0.0000</td>\n",
       "      <td>1.0000</td>\n",
       "      <td>0.0000</td>\n",
       "      <td>0.0000</td>\n",
       "      <td>1.0000</td>\n",
       "      <td>0.0000</td>\n",
       "      <td>0.0000</td>\n",
       "      <td>0.0000</td>\n",
       "      <td>0.0000</td>\n",
       "      <td>0.0000</td>\n",
       "      <td>0.0000</td>\n",
       "      <td>1.0000</td>\n",
       "      <td>0.0000</td>\n",
       "      <td>0.0000</td>\n",
       "      <td>0.0000</td>\n",
       "      <td>1.0000</td>\n",
       "      <td>0.0000</td>\n",
       "    </tr>\n",
       "    <tr>\n",
       "      <th>2</th>\n",
       "      <td>0.0000</td>\n",
       "      <td>0.0000</td>\n",
       "      <td>0.0000</td>\n",
       "      <td>0.0000</td>\n",
       "      <td>1.0000</td>\n",
       "      <td>0.0000</td>\n",
       "      <td>0.0000</td>\n",
       "      <td>1.0000</td>\n",
       "      <td>0.0000</td>\n",
       "      <td>0.0000</td>\n",
       "      <td>0.0000</td>\n",
       "      <td>0.0000</td>\n",
       "      <td>0.0000</td>\n",
       "      <td>0.0000</td>\n",
       "      <td>1.0000</td>\n",
       "      <td>0.0000</td>\n",
       "      <td>0.0000</td>\n",
       "      <td>0.0000</td>\n",
       "      <td>1.0000</td>\n",
       "      <td>0.0000</td>\n",
       "    </tr>\n",
       "    <tr>\n",
       "      <th>3</th>\n",
       "      <td>0.0000</td>\n",
       "      <td>0.0000</td>\n",
       "      <td>0.0000</td>\n",
       "      <td>0.0000</td>\n",
       "      <td>1.0000</td>\n",
       "      <td>0.0000</td>\n",
       "      <td>0.0000</td>\n",
       "      <td>0.0000</td>\n",
       "      <td>1.0000</td>\n",
       "      <td>0.0000</td>\n",
       "      <td>0.0000</td>\n",
       "      <td>0.0000</td>\n",
       "      <td>0.0000</td>\n",
       "      <td>0.0000</td>\n",
       "      <td>1.0000</td>\n",
       "      <td>0.0000</td>\n",
       "      <td>0.0000</td>\n",
       "      <td>0.0000</td>\n",
       "      <td>1.0000</td>\n",
       "      <td>0.0000</td>\n",
       "    </tr>\n",
       "    <tr>\n",
       "      <th>4</th>\n",
       "      <td>0.0000</td>\n",
       "      <td>0.0000</td>\n",
       "      <td>0.0000</td>\n",
       "      <td>0.0000</td>\n",
       "      <td>1.0000</td>\n",
       "      <td>0.0000</td>\n",
       "      <td>0.0000</td>\n",
       "      <td>0.0000</td>\n",
       "      <td>0.0000</td>\n",
       "      <td>1.0000</td>\n",
       "      <td>0.0000</td>\n",
       "      <td>1.0000</td>\n",
       "      <td>0.0000</td>\n",
       "      <td>0.0000</td>\n",
       "      <td>0.0000</td>\n",
       "      <td>0.0000</td>\n",
       "      <td>0.0000</td>\n",
       "      <td>0.0000</td>\n",
       "      <td>1.0000</td>\n",
       "      <td>0.0000</td>\n",
       "    </tr>\n",
       "  </tbody>\n",
       "</table>\n",
       "</div>"
      ],
      "text/plain": [
       "   JFK Airport  Nassau or Westchester  Negotiated fare  Newark  Standard rate  \\\n",
       "0       0.0000                 0.0000           0.0000  0.0000         1.0000   \n",
       "1       0.0000                 0.0000           0.0000  0.0000         1.0000   \n",
       "2       0.0000                 0.0000           0.0000  0.0000         1.0000   \n",
       "3       0.0000                 0.0000           0.0000  0.0000         1.0000   \n",
       "4       0.0000                 0.0000           0.0000  0.0000         1.0000   \n",
       "\n",
       "   Afternoon  Evening  Midday  Morning  Night  Friday  Monday  Saturday  \\\n",
       "0     1.0000   0.0000  0.0000   0.0000 0.0000  1.0000  0.0000    0.0000   \n",
       "1     0.0000   0.0000  1.0000   0.0000 0.0000  0.0000  0.0000    0.0000   \n",
       "2     0.0000   0.0000  1.0000   0.0000 0.0000  0.0000  0.0000    0.0000   \n",
       "3     0.0000   0.0000  0.0000   1.0000 0.0000  0.0000  0.0000    0.0000   \n",
       "4     0.0000   0.0000  0.0000   0.0000 1.0000  0.0000  1.0000    0.0000   \n",
       "\n",
       "   Sunday  Thursday  Tuesday  Wednesday  Big group  Individual passenger  \\\n",
       "0  0.0000    0.0000   0.0000     0.0000     0.0000                0.0000   \n",
       "1  0.0000    1.0000   0.0000     0.0000     0.0000                1.0000   \n",
       "2  0.0000    1.0000   0.0000     0.0000     0.0000                1.0000   \n",
       "3  0.0000    1.0000   0.0000     0.0000     0.0000                1.0000   \n",
       "4  0.0000    0.0000   0.0000     0.0000     0.0000                1.0000   \n",
       "\n",
       "   Small group  \n",
       "0       1.0000  \n",
       "1       0.0000  \n",
       "2       0.0000  \n",
       "3       0.0000  \n",
       "4       0.0000  "
      ]
     },
     "execution_count": 140,
     "metadata": {},
     "output_type": "execute_result"
    }
   ],
   "source": [
    "test_onehot = encoder.transform(categorical_test).toarray()\n",
    "enc = [columname for sublist in encoder.categories_ for columname in sublist]\n",
    "test_onehot = pd.DataFrame(test_onehot,columns=enc)\n",
    "test_onehot.shape\n",
    "test_onehot.head()"
   ]
  },
  {
   "cell_type": "markdown",
   "id": "digital-advertiser",
   "metadata": {},
   "source": [
    "#### Get final test dataset"
   ]
  },
  {
   "cell_type": "code",
   "execution_count": 141,
   "id": "funded-reggae",
   "metadata": {},
   "outputs": [
    {
     "data": {
      "text/plain": [
       "(1018568, 26)"
      ]
     },
     "execution_count": 141,
     "metadata": {},
     "output_type": "execute_result"
    }
   ],
   "source": [
    "X_test_preproc = pd.concat([test_num_stand,test_onehot], axis= 1)\n",
    "X_test_preproc.shape"
   ]
  },
  {
   "cell_type": "markdown",
   "id": "artificial-major",
   "metadata": {},
   "source": [
    "### Modeling"
   ]
  },
  {
   "cell_type": "code",
   "execution_count": 142,
   "id": "developing-forwarding",
   "metadata": {},
   "outputs": [
    {
     "data": {
      "text/plain": [
       "LinearRegression()"
      ]
     },
     "execution_count": 142,
     "metadata": {},
     "output_type": "execute_result"
    }
   ],
   "source": [
    "LR = linear_model.LinearRegression()\n",
    "LR.fit(X_train_preproc,y_train)"
   ]
  },
  {
   "cell_type": "markdown",
   "id": "extra-summit",
   "metadata": {},
   "source": [
    "### Validate model"
   ]
  },
  {
   "cell_type": "code",
   "execution_count": 143,
   "id": "engaged-reference",
   "metadata": {},
   "outputs": [
    {
     "data": {
      "text/plain": [
       "array([1.75415039, 2.73828125, 2.76416016, ..., 1.78186035, 1.59326172,\n",
       "       2.3404541 ])"
      ]
     },
     "execution_count": 143,
     "metadata": {},
     "output_type": "execute_result"
    }
   ],
   "source": [
    "predictions = LR.predict(X_test_preproc)\n",
    "predictions"
   ]
  },
  {
   "cell_type": "code",
   "execution_count": 144,
   "id": "according-argentina",
   "metadata": {},
   "outputs": [
    {
     "name": "stdout",
     "output_type": "stream",
     "text": [
      "0.6577725495557938\n",
      "0.6577725495557938\n"
     ]
    },
    {
     "data": {
      "text/plain": [
       "2.2451149443067724"
      ]
     },
     "execution_count": 144,
     "metadata": {},
     "output_type": "execute_result"
    }
   ],
   "source": [
    "# R2.\n",
    "r2 = r2_score(y_test, predictions)\n",
    "score = LR.score(X_test_preproc, y_test)\n",
    "print(score)\n",
    "print(r2)\n",
    "# MSE.\n",
    "mse = mean_squared_error(y_test, predictions)\n",
    "mse\n",
    "# RMSE.\n",
    "rmse = math.sqrt(mse)\n"
   ]
  },
  {
   "cell_type": "code",
   "execution_count": 145,
   "id": "defined-cover",
   "metadata": {},
   "outputs": [],
   "source": [
    "# KNN = KNeighborsRegressor(n_neighbors=5)\n",
    "# KNN.fit(X_train_preproc,y_train)\n",
    "# score = KNN.score(X_test_preproc, y_test)\n",
    "# return print('KNeighborscore is: ',score)"
   ]
  },
  {
   "cell_type": "code",
   "execution_count": 146,
   "id": "earlier-embassy",
   "metadata": {},
   "outputs": [],
   "source": [
    "# TESTS\n",
    "# doing nothing --> 0.96\n",
    "# multicollinearity: removing total_amount --> 0.77 / removing fare_amount --> 0.85 / removing trip _distance --> 0.96\n",
    "#                     removing fare_amount and trip_distance --> 0.83\n",
    "# Removing outliers 0.92"
   ]
  },
  {
   "cell_type": "code",
   "execution_count": 147,
   "id": "grand-ministry",
   "metadata": {},
   "outputs": [],
   "source": [
    "# regr = MLPRegressor(random_state=1, max_iter=500).fit(X_train_preproc, y_train)\n",
    "# predictions = regr.predict(X_test_preproc)\n",
    "# r2 = r2_score(y_test, predictions)\n",
    "# print(r2)"
   ]
  },
  {
   "cell_type": "code",
   "execution_count": null,
   "id": "collected-potato",
   "metadata": {},
   "outputs": [],
   "source": []
  }
 ],
 "metadata": {
  "kernelspec": {
   "display_name": "Python 3",
   "language": "python",
   "name": "python3"
  },
  "language_info": {
   "codemirror_mode": {
    "name": "ipython",
    "version": 3
   },
   "file_extension": ".py",
   "mimetype": "text/x-python",
   "name": "python",
   "nbconvert_exporter": "python",
   "pygments_lexer": "ipython3",
   "version": "3.7.10"
  }
 },
 "nbformat": 4,
 "nbformat_minor": 5
}
