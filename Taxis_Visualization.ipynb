{
 "cells": [
  {
   "cell_type": "code",
   "execution_count": null,
   "id": "medium-hearts",
   "metadata": {},
   "outputs": [],
   "source": []
  },
  {
   "cell_type": "code",
   "execution_count": 9,
   "id": "sound-season",
   "metadata": {},
   "outputs": [],
   "source": [
    "import pandas as pd\n",
    "import seaborn as sns\n",
    "import matplotlib.pyplot as plt\n",
    "import numpy as np"
   ]
  },
  {
   "cell_type": "code",
   "execution_count": 10,
   "id": "joint-brief",
   "metadata": {},
   "outputs": [],
   "source": [
    "# To make run all you ask in one cell, not only the last required\n",
    "from IPython.core.interactiveshell import InteractiveShell\n",
    "InteractiveShell.ast_node_interactivity = \"all\""
   ]
  },
  {
   "cell_type": "code",
   "execution_count": 11,
   "id": "irish-static",
   "metadata": {},
   "outputs": [],
   "source": [
    "pd.options.display.float_format = '{:,.2f}'.format"
   ]
  },
  {
   "cell_type": "code",
   "execution_count": 12,
   "id": "labeled-somerset",
   "metadata": {},
   "outputs": [
    {
     "data": {
      "text/html": [
       "<div>\n",
       "<style scoped>\n",
       "    .dataframe tbody tr th:only-of-type {\n",
       "        vertical-align: middle;\n",
       "    }\n",
       "\n",
       "    .dataframe tbody tr th {\n",
       "        vertical-align: top;\n",
       "    }\n",
       "\n",
       "    .dataframe thead th {\n",
       "        text-align: right;\n",
       "    }\n",
       "</style>\n",
       "<table border=\"1\" class=\"dataframe\">\n",
       "  <thead>\n",
       "    <tr style=\"text-align: right;\">\n",
       "      <th></th>\n",
       "      <th>passenger_count</th>\n",
       "      <th>trip_distance</th>\n",
       "      <th>fare_amount</th>\n",
       "      <th>extra</th>\n",
       "      <th>tip_amount</th>\n",
       "      <th>tolls_amount</th>\n",
       "      <th>total_amount</th>\n",
       "      <th>trip_duration</th>\n",
       "      <th>trip_average_speed</th>\n",
       "      <th>tip_percentage</th>\n",
       "      <th>ratecodeID</th>\n",
       "      <th>day_part</th>\n",
       "      <th>weekday</th>\n",
       "      <th>passenger_load</th>\n",
       "      <th>PULocationID</th>\n",
       "      <th>DOLocationID</th>\n",
       "      <th>tpep_pickup_datetime</th>\n",
       "      <th>tpep_dropoff_datetime</th>\n",
       "      <th>pickup_time</th>\n",
       "      <th>pickup_date</th>\n",
       "    </tr>\n",
       "  </thead>\n",
       "  <tbody>\n",
       "    <tr>\n",
       "      <th>0</th>\n",
       "      <td>1.00</td>\n",
       "      <td>11.75</td>\n",
       "      <td>28.00</td>\n",
       "      <td>3.00</td>\n",
       "      <td>7.95</td>\n",
       "      <td>0.00</td>\n",
       "      <td>39.75</td>\n",
       "      <td>34.00</td>\n",
       "      <td>20.73</td>\n",
       "      <td>20.00</td>\n",
       "      <td>Standard rate</td>\n",
       "      <td>Night</td>\n",
       "      <td>Wednesday</td>\n",
       "      <td>Individual passenger</td>\n",
       "      <td>234</td>\n",
       "      <td>61</td>\n",
       "      <td>2019-08-01 00:47:20</td>\n",
       "      <td>2019-08-01 01:21:45</td>\n",
       "      <td>00:47:20</td>\n",
       "      <td>2019-08-01</td>\n",
       "    </tr>\n",
       "    <tr>\n",
       "      <th>1</th>\n",
       "      <td>1.00</td>\n",
       "      <td>10.46</td>\n",
       "      <td>25.00</td>\n",
       "      <td>3.00</td>\n",
       "      <td>4.32</td>\n",
       "      <td>0.00</td>\n",
       "      <td>33.12</td>\n",
       "      <td>31.00</td>\n",
       "      <td>20.25</td>\n",
       "      <td>13.04</td>\n",
       "      <td>Standard rate</td>\n",
       "      <td>Night</td>\n",
       "      <td>Wednesday</td>\n",
       "      <td>Individual passenger</td>\n",
       "      <td>90</td>\n",
       "      <td>7</td>\n",
       "      <td>2019-08-01 00:16:25</td>\n",
       "      <td>2019-08-01 00:48:19</td>\n",
       "      <td>00:16:25</td>\n",
       "      <td>2019-08-01</td>\n",
       "    </tr>\n",
       "    <tr>\n",
       "      <th>2</th>\n",
       "      <td>1.00</td>\n",
       "      <td>3.38</td>\n",
       "      <td>9.50</td>\n",
       "      <td>3.00</td>\n",
       "      <td>2.00</td>\n",
       "      <td>0.00</td>\n",
       "      <td>15.30</td>\n",
       "      <td>11.00</td>\n",
       "      <td>18.43</td>\n",
       "      <td>13.07</td>\n",
       "      <td>Standard rate</td>\n",
       "      <td>Night</td>\n",
       "      <td>Wednesday</td>\n",
       "      <td>Individual passenger</td>\n",
       "      <td>164</td>\n",
       "      <td>79</td>\n",
       "      <td>2019-08-01 00:43:48</td>\n",
       "      <td>2019-08-01 00:55:13</td>\n",
       "      <td>00:43:48</td>\n",
       "      <td>2019-08-01</td>\n",
       "    </tr>\n",
       "    <tr>\n",
       "      <th>3</th>\n",
       "      <td>1.00</td>\n",
       "      <td>1.00</td>\n",
       "      <td>4.50</td>\n",
       "      <td>0.50</td>\n",
       "      <td>2.49</td>\n",
       "      <td>0.00</td>\n",
       "      <td>10.79</td>\n",
       "      <td>2.00</td>\n",
       "      <td>29.93</td>\n",
       "      <td>23.08</td>\n",
       "      <td>Standard rate</td>\n",
       "      <td>Night</td>\n",
       "      <td>Wednesday</td>\n",
       "      <td>Individual passenger</td>\n",
       "      <td>13</td>\n",
       "      <td>13</td>\n",
       "      <td>2019-08-01 00:07:47</td>\n",
       "      <td>2019-08-01 00:10:35</td>\n",
       "      <td>00:07:47</td>\n",
       "      <td>2019-08-01</td>\n",
       "    </tr>\n",
       "    <tr>\n",
       "      <th>4</th>\n",
       "      <td>1.00</td>\n",
       "      <td>2.90</td>\n",
       "      <td>9.50</td>\n",
       "      <td>3.00</td>\n",
       "      <td>2.65</td>\n",
       "      <td>0.00</td>\n",
       "      <td>15.95</td>\n",
       "      <td>11.00</td>\n",
       "      <td>15.80</td>\n",
       "      <td>16.61</td>\n",
       "      <td>Standard rate</td>\n",
       "      <td>Night</td>\n",
       "      <td>Wednesday</td>\n",
       "      <td>Individual passenger</td>\n",
       "      <td>163</td>\n",
       "      <td>68</td>\n",
       "      <td>2019-08-01 00:00:24</td>\n",
       "      <td>2019-08-01 00:12:12</td>\n",
       "      <td>00:00:24</td>\n",
       "      <td>2019-08-01</td>\n",
       "    </tr>\n",
       "  </tbody>\n",
       "</table>\n",
       "</div>"
      ],
      "text/plain": [
       "   passenger_count  trip_distance  fare_amount  extra  tip_amount  \\\n",
       "0             1.00          11.75        28.00   3.00        7.95   \n",
       "1             1.00          10.46        25.00   3.00        4.32   \n",
       "2             1.00           3.38         9.50   3.00        2.00   \n",
       "3             1.00           1.00         4.50   0.50        2.49   \n",
       "4             1.00           2.90         9.50   3.00        2.65   \n",
       "\n",
       "   tolls_amount  total_amount  trip_duration  trip_average_speed  \\\n",
       "0          0.00         39.75          34.00               20.73   \n",
       "1          0.00         33.12          31.00               20.25   \n",
       "2          0.00         15.30          11.00               18.43   \n",
       "3          0.00         10.79           2.00               29.93   \n",
       "4          0.00         15.95          11.00               15.80   \n",
       "\n",
       "   tip_percentage     ratecodeID day_part    weekday        passenger_load  \\\n",
       "0           20.00  Standard rate    Night  Wednesday  Individual passenger   \n",
       "1           13.04  Standard rate    Night  Wednesday  Individual passenger   \n",
       "2           13.07  Standard rate    Night  Wednesday  Individual passenger   \n",
       "3           23.08  Standard rate    Night  Wednesday  Individual passenger   \n",
       "4           16.61  Standard rate    Night  Wednesday  Individual passenger   \n",
       "\n",
       "   PULocationID  DOLocationID tpep_pickup_datetime tpep_dropoff_datetime  \\\n",
       "0           234            61  2019-08-01 00:47:20   2019-08-01 01:21:45   \n",
       "1            90             7  2019-08-01 00:16:25   2019-08-01 00:48:19   \n",
       "2           164            79  2019-08-01 00:43:48   2019-08-01 00:55:13   \n",
       "3            13            13  2019-08-01 00:07:47   2019-08-01 00:10:35   \n",
       "4           163            68  2019-08-01 00:00:24   2019-08-01 00:12:12   \n",
       "\n",
       "  pickup_time pickup_date  \n",
       "0    00:47:20  2019-08-01  \n",
       "1    00:16:25  2019-08-01  \n",
       "2    00:43:48  2019-08-01  \n",
       "3    00:07:47  2019-08-01  \n",
       "4    00:00:24  2019-08-01  "
      ]
     },
     "execution_count": 12,
     "metadata": {},
     "output_type": "execute_result"
    },
    {
     "data": {
      "text/plain": [
       "(4074272, 20)"
      ]
     },
     "execution_count": 12,
     "metadata": {},
     "output_type": "execute_result"
    }
   ],
   "source": [
    "data1 = pd.read_csv('taxi_visual.csv')\n",
    "data1.head()\n",
    "data1.shape"
   ]
  },
  {
   "cell_type": "code",
   "execution_count": 13,
   "id": "synthetic-infrared",
   "metadata": {},
   "outputs": [],
   "source": [
    "def fast_slow(x):\n",
    "    if x < 15:\n",
    "        return 'Slow Cab'\n",
    "    elif x > 35:\n",
    "        return 'Fast Cab'\n",
    "    else:\n",
    "        return 'Normal speed'"
   ]
  },
  {
   "cell_type": "code",
   "execution_count": 14,
   "id": "cordless-cabinet",
   "metadata": {},
   "outputs": [],
   "source": [
    "data1['speed'] = data1['trip_average_speed'].apply(fast_slow)"
   ]
  },
  {
   "cell_type": "code",
   "execution_count": 15,
   "id": "acceptable-restoration",
   "metadata": {},
   "outputs": [],
   "source": [
    "def tips(x):\n",
    "    if x < 10:\n",
    "        return 'Bad Tip'\n",
    "    elif x > 20:\n",
    "        return 'Great Tip'\n",
    "    else:\n",
    "        return 'Normal Tip'"
   ]
  },
  {
   "cell_type": "code",
   "execution_count": 16,
   "id": "every-reproduction",
   "metadata": {},
   "outputs": [],
   "source": [
    "data1['tip_rating'] = data1['tip_percentage'].apply(tips)"
   ]
  },
  {
   "cell_type": "code",
   "execution_count": 17,
   "id": "backed-tuner",
   "metadata": {},
   "outputs": [],
   "source": [
    "def fare(x):\n",
    "    if x < 9:\n",
    "        return 'Ok business'\n",
    "    elif x > 20:\n",
    "        return 'Good business'\n",
    "    else:\n",
    "        return 'Normal business'"
   ]
  },
  {
   "cell_type": "code",
   "execution_count": 18,
   "id": "opening-combat",
   "metadata": {},
   "outputs": [],
   "source": [
    "data1['fare_classification'] = data1['fare_amount'].apply(fare)"
   ]
  },
  {
   "cell_type": "code",
   "execution_count": 19,
   "id": "magnetic-acquisition",
   "metadata": {},
   "outputs": [],
   "source": [
    "def duration(x):\n",
    "    if x < 10:\n",
    "        return 'Short trip'\n",
    "    elif x > 30:\n",
    "        return 'Long trip'\n",
    "    else:\n",
    "        return 'Normal trip'"
   ]
  },
  {
   "cell_type": "code",
   "execution_count": 20,
   "id": "diagnostic-helping",
   "metadata": {},
   "outputs": [],
   "source": [
    "data1['duration_classified'] = data1['trip_duration'].apply(duration)"
   ]
  },
  {
   "cell_type": "code",
   "execution_count": 21,
   "id": "allied-photography",
   "metadata": {},
   "outputs": [],
   "source": [
    "def distance(x):\n",
    "    if x < 2:\n",
    "        return 'Short distance'\n",
    "    elif x > 10:\n",
    "        return 'Long distance'\n",
    "    else:\n",
    "        return 'Normal distance'"
   ]
  },
  {
   "cell_type": "code",
   "execution_count": 22,
   "id": "trained-egyptian",
   "metadata": {},
   "outputs": [],
   "source": [
    "data1['distance_classified'] = data1['trip_distance'].apply(distance)"
   ]
  },
  {
   "cell_type": "code",
   "execution_count": null,
   "id": "synthetic-clerk",
   "metadata": {},
   "outputs": [],
   "source": []
  },
  {
   "cell_type": "code",
   "execution_count": null,
   "id": "agricultural-halloween",
   "metadata": {},
   "outputs": [],
   "source": []
  },
  {
   "cell_type": "code",
   "execution_count": 23,
   "id": "headed-taxation",
   "metadata": {},
   "outputs": [
    {
     "data": {
      "text/plain": [
       "Index(['passenger_count', 'trip_distance', 'fare_amount', 'extra',\n",
       "       'tip_amount', 'tolls_amount', 'total_amount', 'trip_duration',\n",
       "       'trip_average_speed', 'tip_percentage', 'ratecodeID', 'day_part',\n",
       "       'weekday', 'passenger_load', 'PULocationID', 'DOLocationID',\n",
       "       'tpep_pickup_datetime', 'tpep_dropoff_datetime', 'pickup_time',\n",
       "       'pickup_date', 'speed', 'tip_rating', 'fare_classification',\n",
       "       'duration_classified', 'distance_classified'],\n",
       "      dtype='object')"
      ]
     },
     "execution_count": 23,
     "metadata": {},
     "output_type": "execute_result"
    }
   ],
   "source": [
    "data1.columns"
   ]
  },
  {
   "cell_type": "code",
   "execution_count": 24,
   "id": "elegant-medline",
   "metadata": {},
   "outputs": [
    {
     "data": {
      "text/plain": [
       "(500000, 25)"
      ]
     },
     "execution_count": 24,
     "metadata": {},
     "output_type": "execute_result"
    }
   ],
   "source": [
    "data1 = data1.sample(n=500000, random_state=1)\n",
    "data1.shape"
   ]
  },
  {
   "cell_type": "code",
   "execution_count": 25,
   "id": "classified-geometry",
   "metadata": {},
   "outputs": [
    {
     "data": {
      "text/plain": [
       "(265, 4)"
      ]
     },
     "execution_count": 25,
     "metadata": {},
     "output_type": "execute_result"
    }
   ],
   "source": [
    "data2 = pd.read_excel('taxi_zones.xlsx')\n",
    "data2.shape"
   ]
  },
  {
   "cell_type": "code",
   "execution_count": 26,
   "id": "common-strike",
   "metadata": {},
   "outputs": [
    {
     "data": {
      "text/plain": [
       "(500000, 28)"
      ]
     },
     "execution_count": 26,
     "metadata": {},
     "output_type": "execute_result"
    },
    {
     "data": {
      "text/html": [
       "<div>\n",
       "<style scoped>\n",
       "    .dataframe tbody tr th:only-of-type {\n",
       "        vertical-align: middle;\n",
       "    }\n",
       "\n",
       "    .dataframe tbody tr th {\n",
       "        vertical-align: top;\n",
       "    }\n",
       "\n",
       "    .dataframe thead th {\n",
       "        text-align: right;\n",
       "    }\n",
       "</style>\n",
       "<table border=\"1\" class=\"dataframe\">\n",
       "  <thead>\n",
       "    <tr style=\"text-align: right;\">\n",
       "      <th></th>\n",
       "      <th>passenger_count</th>\n",
       "      <th>trip_distance</th>\n",
       "      <th>fare_amount</th>\n",
       "      <th>extra</th>\n",
       "      <th>tip_amount</th>\n",
       "      <th>tolls_amount</th>\n",
       "      <th>total_amount</th>\n",
       "      <th>trip_duration</th>\n",
       "      <th>trip_average_speed</th>\n",
       "      <th>tip_percentage</th>\n",
       "      <th>...</th>\n",
       "      <th>pickup_time</th>\n",
       "      <th>pickup_date</th>\n",
       "      <th>speed</th>\n",
       "      <th>tip_rating</th>\n",
       "      <th>fare_classification</th>\n",
       "      <th>duration_classified</th>\n",
       "      <th>distance_classified</th>\n",
       "      <th>LocationID</th>\n",
       "      <th>Borough</th>\n",
       "      <th>Zone</th>\n",
       "    </tr>\n",
       "  </thead>\n",
       "  <tbody>\n",
       "    <tr>\n",
       "      <th>0</th>\n",
       "      <td>1.00</td>\n",
       "      <td>1.77</td>\n",
       "      <td>5.50</td>\n",
       "      <td>2.50</td>\n",
       "      <td>0.75</td>\n",
       "      <td>0.00</td>\n",
       "      <td>9.55</td>\n",
       "      <td>3.00</td>\n",
       "      <td>35.41</td>\n",
       "      <td>7.85</td>\n",
       "      <td>...</td>\n",
       "      <td>00:33:26</td>\n",
       "      <td>2019-08-12</td>\n",
       "      <td>Fast Cab</td>\n",
       "      <td>Bad Tip</td>\n",
       "      <td>Ok business</td>\n",
       "      <td>Short trip</td>\n",
       "      <td>Short distance</td>\n",
       "      <td>170</td>\n",
       "      <td>Manhattan</td>\n",
       "      <td>Murray Hill</td>\n",
       "    </tr>\n",
       "    <tr>\n",
       "      <th>1</th>\n",
       "      <td>1.00</td>\n",
       "      <td>1.13</td>\n",
       "      <td>4.50</td>\n",
       "      <td>0.00</td>\n",
       "      <td>1.00</td>\n",
       "      <td>0.00</td>\n",
       "      <td>8.80</td>\n",
       "      <td>3.00</td>\n",
       "      <td>22.53</td>\n",
       "      <td>11.36</td>\n",
       "      <td>...</td>\n",
       "      <td>08:16:34</td>\n",
       "      <td>2019-08-15</td>\n",
       "      <td>Normal speed</td>\n",
       "      <td>Normal Tip</td>\n",
       "      <td>Ok business</td>\n",
       "      <td>Short trip</td>\n",
       "      <td>Short distance</td>\n",
       "      <td>87</td>\n",
       "      <td>Manhattan</td>\n",
       "      <td>Financial District North</td>\n",
       "    </tr>\n",
       "    <tr>\n",
       "      <th>2</th>\n",
       "      <td>1.00</td>\n",
       "      <td>3.59</td>\n",
       "      <td>9.50</td>\n",
       "      <td>0.50</td>\n",
       "      <td>2.66</td>\n",
       "      <td>0.00</td>\n",
       "      <td>15.96</td>\n",
       "      <td>9.00</td>\n",
       "      <td>23.93</td>\n",
       "      <td>16.67</td>\n",
       "      <td>...</td>\n",
       "      <td>22:54:09</td>\n",
       "      <td>2019-08-08</td>\n",
       "      <td>Normal speed</td>\n",
       "      <td>Normal Tip</td>\n",
       "      <td>Normal business</td>\n",
       "      <td>Short trip</td>\n",
       "      <td>Normal distance</td>\n",
       "      <td>74</td>\n",
       "      <td>Manhattan</td>\n",
       "      <td>East Harlem North</td>\n",
       "    </tr>\n",
       "    <tr>\n",
       "      <th>3</th>\n",
       "      <td>1.00</td>\n",
       "      <td>4.67</td>\n",
       "      <td>12.50</td>\n",
       "      <td>2.50</td>\n",
       "      <td>3.15</td>\n",
       "      <td>0.00</td>\n",
       "      <td>18.95</td>\n",
       "      <td>13.00</td>\n",
       "      <td>21.54</td>\n",
       "      <td>16.62</td>\n",
       "      <td>...</td>\n",
       "      <td>09:09:51</td>\n",
       "      <td>2019-08-24</td>\n",
       "      <td>Normal speed</td>\n",
       "      <td>Normal Tip</td>\n",
       "      <td>Normal business</td>\n",
       "      <td>Normal trip</td>\n",
       "      <td>Normal distance</td>\n",
       "      <td>186</td>\n",
       "      <td>Manhattan</td>\n",
       "      <td>Penn Station/Madison Sq West</td>\n",
       "    </tr>\n",
       "    <tr>\n",
       "      <th>4</th>\n",
       "      <td>1.00</td>\n",
       "      <td>4.83</td>\n",
       "      <td>15.00</td>\n",
       "      <td>3.50</td>\n",
       "      <td>3.85</td>\n",
       "      <td>0.00</td>\n",
       "      <td>23.15</td>\n",
       "      <td>20.00</td>\n",
       "      <td>14.48</td>\n",
       "      <td>16.63</td>\n",
       "      <td>...</td>\n",
       "      <td>15:10:53</td>\n",
       "      <td>2019-08-09</td>\n",
       "      <td>Slow Cab</td>\n",
       "      <td>Normal Tip</td>\n",
       "      <td>Normal business</td>\n",
       "      <td>Normal trip</td>\n",
       "      <td>Normal distance</td>\n",
       "      <td>264</td>\n",
       "      <td>Unknown</td>\n",
       "      <td>NV</td>\n",
       "    </tr>\n",
       "  </tbody>\n",
       "</table>\n",
       "<p>5 rows × 28 columns</p>\n",
       "</div>"
      ],
      "text/plain": [
       "   passenger_count  trip_distance  fare_amount  extra  tip_amount  \\\n",
       "0             1.00           1.77         5.50   2.50        0.75   \n",
       "1             1.00           1.13         4.50   0.00        1.00   \n",
       "2             1.00           3.59         9.50   0.50        2.66   \n",
       "3             1.00           4.67        12.50   2.50        3.15   \n",
       "4             1.00           4.83        15.00   3.50        3.85   \n",
       "\n",
       "   tolls_amount  total_amount  trip_duration  trip_average_speed  \\\n",
       "0          0.00          9.55           3.00               35.41   \n",
       "1          0.00          8.80           3.00               22.53   \n",
       "2          0.00         15.96           9.00               23.93   \n",
       "3          0.00         18.95          13.00               21.54   \n",
       "4          0.00         23.15          20.00               14.48   \n",
       "\n",
       "   tip_percentage  ... pickup_time pickup_date         speed  tip_rating  \\\n",
       "0            7.85  ...    00:33:26  2019-08-12      Fast Cab     Bad Tip   \n",
       "1           11.36  ...    08:16:34  2019-08-15  Normal speed  Normal Tip   \n",
       "2           16.67  ...    22:54:09  2019-08-08  Normal speed  Normal Tip   \n",
       "3           16.62  ...    09:09:51  2019-08-24  Normal speed  Normal Tip   \n",
       "4           16.63  ...    15:10:53  2019-08-09      Slow Cab  Normal Tip   \n",
       "\n",
       "   fare_classification  duration_classified distance_classified LocationID  \\\n",
       "0          Ok business           Short trip      Short distance        170   \n",
       "1          Ok business           Short trip      Short distance         87   \n",
       "2      Normal business           Short trip     Normal distance         74   \n",
       "3      Normal business          Normal trip     Normal distance        186   \n",
       "4      Normal business          Normal trip     Normal distance        264   \n",
       "\n",
       "     Borough                          Zone  \n",
       "0  Manhattan                   Murray Hill  \n",
       "1  Manhattan      Financial District North  \n",
       "2  Manhattan             East Harlem North  \n",
       "3  Manhattan  Penn Station/Madison Sq West  \n",
       "4    Unknown                            NV  \n",
       "\n",
       "[5 rows x 28 columns]"
      ]
     },
     "execution_count": 26,
     "metadata": {},
     "output_type": "execute_result"
    }
   ],
   "source": [
    "pickup_data = pd.merge(data1, data2[['LocationID','Borough','Zone']], left_on='PULocationID', right_on=['LocationID'], how = 'left')\n",
    "pickup_data.shape\n",
    "pickup_data.head()"
   ]
  },
  {
   "cell_type": "code",
   "execution_count": 27,
   "id": "disabled-precipitation",
   "metadata": {},
   "outputs": [],
   "source": [
    "pickup_data.rename(columns = {'LocationID':'PULocationIDCopy','Borough': 'PUBorough', 'Zone': 'PUZone'}, inplace = True)\n",
    "# pickup_data.head()"
   ]
  },
  {
   "cell_type": "code",
   "execution_count": 28,
   "id": "marked-exclusive",
   "metadata": {},
   "outputs": [
    {
     "data": {
      "text/plain": [
       "(500000, 31)"
      ]
     },
     "execution_count": 28,
     "metadata": {},
     "output_type": "execute_result"
    }
   ],
   "source": [
    "final_df = pd.merge(pickup_data, data2[['LocationID','Borough','Zone']], left_on='DOLocationID', right_on=['LocationID'], how = 'left')\n",
    "final_df.shape\n",
    "# final_df['PUBorough'].head()"
   ]
  },
  {
   "cell_type": "code",
   "execution_count": 29,
   "id": "novel-retro",
   "metadata": {},
   "outputs": [],
   "source": [
    "final_df.rename(columns = {'LocationID':'DOLocationIDCopy','Borough': 'DOBorough', 'Zone': 'DOZone'}, inplace = True)\n",
    "# final_df.head()"
   ]
  },
  {
   "cell_type": "code",
   "execution_count": 30,
   "id": "hydraulic-liquid",
   "metadata": {},
   "outputs": [
    {
     "data": {
      "text/plain": [
       "(500000, 31)"
      ]
     },
     "execution_count": 30,
     "metadata": {},
     "output_type": "execute_result"
    },
    {
     "data": {
      "text/plain": [
       "(494663, 31)"
      ]
     },
     "execution_count": 30,
     "metadata": {},
     "output_type": "execute_result"
    }
   ],
   "source": [
    "final_df.shape\n",
    "final_df = final_df.loc[final_df['PUBorough'] != 'Unknown']\n",
    "final_df = final_df.loc[final_df['DOBorough'] != 'Unknown']\n",
    "final_df.shape"
   ]
  },
  {
   "cell_type": "code",
   "execution_count": 31,
   "id": "absolute-lecture",
   "metadata": {
    "scrolled": true
   },
   "outputs": [
    {
     "data": {
      "text/html": [
       "<div>\n",
       "<style scoped>\n",
       "    .dataframe tbody tr th:only-of-type {\n",
       "        vertical-align: middle;\n",
       "    }\n",
       "\n",
       "    .dataframe tbody tr th {\n",
       "        vertical-align: top;\n",
       "    }\n",
       "\n",
       "    .dataframe thead th {\n",
       "        text-align: right;\n",
       "    }\n",
       "</style>\n",
       "<table border=\"1\" class=\"dataframe\">\n",
       "  <thead>\n",
       "    <tr style=\"text-align: right;\">\n",
       "      <th></th>\n",
       "      <th>passenger_count</th>\n",
       "      <th>trip_distance</th>\n",
       "      <th>fare_amount</th>\n",
       "      <th>extra</th>\n",
       "      <th>tip_amount</th>\n",
       "      <th>tolls_amount</th>\n",
       "      <th>total_amount</th>\n",
       "      <th>trip_duration</th>\n",
       "      <th>trip_average_speed</th>\n",
       "      <th>tip_percentage</th>\n",
       "      <th>...</th>\n",
       "      <th>tip_rating</th>\n",
       "      <th>fare_classification</th>\n",
       "      <th>duration_classified</th>\n",
       "      <th>distance_classified</th>\n",
       "      <th>PULocationIDCopy</th>\n",
       "      <th>PUBorough</th>\n",
       "      <th>PUZone</th>\n",
       "      <th>DOLocationIDCopy</th>\n",
       "      <th>DOBorough</th>\n",
       "      <th>DOZone</th>\n",
       "    </tr>\n",
       "  </thead>\n",
       "  <tbody>\n",
       "    <tr>\n",
       "      <th>0</th>\n",
       "      <td>1.00</td>\n",
       "      <td>1.77</td>\n",
       "      <td>5.50</td>\n",
       "      <td>2.50</td>\n",
       "      <td>0.75</td>\n",
       "      <td>0.00</td>\n",
       "      <td>9.55</td>\n",
       "      <td>3.00</td>\n",
       "      <td>35.41</td>\n",
       "      <td>7.85</td>\n",
       "      <td>...</td>\n",
       "      <td>Bad Tip</td>\n",
       "      <td>Ok business</td>\n",
       "      <td>Short trip</td>\n",
       "      <td>Short distance</td>\n",
       "      <td>170</td>\n",
       "      <td>Manhattan</td>\n",
       "      <td>Murray Hill</td>\n",
       "      <td>237</td>\n",
       "      <td>Manhattan</td>\n",
       "      <td>Upper East Side South</td>\n",
       "    </tr>\n",
       "    <tr>\n",
       "      <th>1</th>\n",
       "      <td>1.00</td>\n",
       "      <td>1.13</td>\n",
       "      <td>4.50</td>\n",
       "      <td>0.00</td>\n",
       "      <td>1.00</td>\n",
       "      <td>0.00</td>\n",
       "      <td>8.80</td>\n",
       "      <td>3.00</td>\n",
       "      <td>22.53</td>\n",
       "      <td>11.36</td>\n",
       "      <td>...</td>\n",
       "      <td>Normal Tip</td>\n",
       "      <td>Ok business</td>\n",
       "      <td>Short trip</td>\n",
       "      <td>Short distance</td>\n",
       "      <td>87</td>\n",
       "      <td>Manhattan</td>\n",
       "      <td>Financial District North</td>\n",
       "      <td>170</td>\n",
       "      <td>Manhattan</td>\n",
       "      <td>Murray Hill</td>\n",
       "    </tr>\n",
       "  </tbody>\n",
       "</table>\n",
       "<p>2 rows × 31 columns</p>\n",
       "</div>"
      ],
      "text/plain": [
       "   passenger_count  trip_distance  fare_amount  extra  tip_amount  \\\n",
       "0             1.00           1.77         5.50   2.50        0.75   \n",
       "1             1.00           1.13         4.50   0.00        1.00   \n",
       "\n",
       "   tolls_amount  total_amount  trip_duration  trip_average_speed  \\\n",
       "0          0.00          9.55           3.00               35.41   \n",
       "1          0.00          8.80           3.00               22.53   \n",
       "\n",
       "   tip_percentage  ...  tip_rating fare_classification duration_classified  \\\n",
       "0            7.85  ...     Bad Tip         Ok business          Short trip   \n",
       "1           11.36  ...  Normal Tip         Ok business          Short trip   \n",
       "\n",
       "  distance_classified  PULocationIDCopy  PUBorough                    PUZone  \\\n",
       "0      Short distance               170  Manhattan               Murray Hill   \n",
       "1      Short distance                87  Manhattan  Financial District North   \n",
       "\n",
       "  DOLocationIDCopy  DOBorough                 DOZone  \n",
       "0              237  Manhattan  Upper East Side South  \n",
       "1              170  Manhattan            Murray Hill  \n",
       "\n",
       "[2 rows x 31 columns]"
      ]
     },
     "execution_count": 31,
     "metadata": {},
     "output_type": "execute_result"
    }
   ],
   "source": [
    "final_df.head(2)"
   ]
  },
  {
   "cell_type": "code",
   "execution_count": 32,
   "id": "small-evidence",
   "metadata": {},
   "outputs": [],
   "source": [
    "final_df.drop(['PULocationIDCopy','DOLocationIDCopy'], axis =1, inplace=True)"
   ]
  },
  {
   "cell_type": "code",
   "execution_count": 33,
   "id": "simple-watson",
   "metadata": {},
   "outputs": [
    {
     "data": {
      "text/plain": [
       "(494663, 29)"
      ]
     },
     "execution_count": 33,
     "metadata": {},
     "output_type": "execute_result"
    }
   ],
   "source": [
    "final_df.shape"
   ]
  },
  {
   "cell_type": "code",
   "execution_count": 34,
   "id": "hispanic-theater",
   "metadata": {},
   "outputs": [],
   "source": [
    "final_df.to_csv('taxi_tableau.csv', index = False)"
   ]
  },
  {
   "cell_type": "code",
   "execution_count": 35,
   "id": "limited-exemption",
   "metadata": {
    "scrolled": true
   },
   "outputs": [
    {
     "data": {
      "text/html": [
       "<div>\n",
       "<style scoped>\n",
       "    .dataframe tbody tr th:only-of-type {\n",
       "        vertical-align: middle;\n",
       "    }\n",
       "\n",
       "    .dataframe tbody tr th {\n",
       "        vertical-align: top;\n",
       "    }\n",
       "\n",
       "    .dataframe thead th {\n",
       "        text-align: right;\n",
       "    }\n",
       "</style>\n",
       "<table border=\"1\" class=\"dataframe\">\n",
       "  <thead>\n",
       "    <tr style=\"text-align: right;\">\n",
       "      <th></th>\n",
       "      <th>passenger_count</th>\n",
       "      <th>trip_distance</th>\n",
       "      <th>fare_amount</th>\n",
       "      <th>extra</th>\n",
       "      <th>tip_amount</th>\n",
       "      <th>tolls_amount</th>\n",
       "      <th>total_amount</th>\n",
       "      <th>trip_duration</th>\n",
       "      <th>trip_average_speed</th>\n",
       "      <th>tip_percentage</th>\n",
       "      <th>PULocationID</th>\n",
       "      <th>DOLocationID</th>\n",
       "    </tr>\n",
       "  </thead>\n",
       "  <tbody>\n",
       "    <tr>\n",
       "      <th>count</th>\n",
       "      <td>494,663.00</td>\n",
       "      <td>494,663.00</td>\n",
       "      <td>494,663.00</td>\n",
       "      <td>494,663.00</td>\n",
       "      <td>494,663.00</td>\n",
       "      <td>494,663.00</td>\n",
       "      <td>494,663.00</td>\n",
       "      <td>494,663.00</td>\n",
       "      <td>494,663.00</td>\n",
       "      <td>494,663.00</td>\n",
       "      <td>494,663.00</td>\n",
       "      <td>494,663.00</td>\n",
       "    </tr>\n",
       "    <tr>\n",
       "      <th>mean</th>\n",
       "      <td>1.58</td>\n",
       "      <td>5.10</td>\n",
       "      <td>13.32</td>\n",
       "      <td>1.16</td>\n",
       "      <td>3.07</td>\n",
       "      <td>0.43</td>\n",
       "      <td>20.32</td>\n",
       "      <td>13.91</td>\n",
       "      <td>20.39</td>\n",
       "      <td>14.94</td>\n",
       "      <td>161.78</td>\n",
       "      <td>159.46</td>\n",
       "    </tr>\n",
       "    <tr>\n",
       "      <th>std</th>\n",
       "      <td>1.19</td>\n",
       "      <td>6.35</td>\n",
       "      <td>11.22</td>\n",
       "      <td>1.27</td>\n",
       "      <td>2.56</td>\n",
       "      <td>1.70</td>\n",
       "      <td>14.50</td>\n",
       "      <td>11.07</td>\n",
       "      <td>10.54</td>\n",
       "      <td>4.99</td>\n",
       "      <td>64.72</td>\n",
       "      <td>69.15</td>\n",
       "    </tr>\n",
       "    <tr>\n",
       "      <th>min</th>\n",
       "      <td>1.00</td>\n",
       "      <td>0.02</td>\n",
       "      <td>2.50</td>\n",
       "      <td>0.00</td>\n",
       "      <td>0.00</td>\n",
       "      <td>0.00</td>\n",
       "      <td>3.80</td>\n",
       "      <td>1.00</td>\n",
       "      <td>0.02</td>\n",
       "      <td>0.00</td>\n",
       "      <td>1.00</td>\n",
       "      <td>1.00</td>\n",
       "    </tr>\n",
       "    <tr>\n",
       "      <th>25%</th>\n",
       "      <td>1.00</td>\n",
       "      <td>1.71</td>\n",
       "      <td>6.50</td>\n",
       "      <td>0.00</td>\n",
       "      <td>1.76</td>\n",
       "      <td>0.00</td>\n",
       "      <td>12.30</td>\n",
       "      <td>7.00</td>\n",
       "      <td>13.35</td>\n",
       "      <td>13.04</td>\n",
       "      <td>114.00</td>\n",
       "      <td>107.00</td>\n",
       "    </tr>\n",
       "    <tr>\n",
       "      <th>50%</th>\n",
       "      <td>1.00</td>\n",
       "      <td>2.83</td>\n",
       "      <td>9.50</td>\n",
       "      <td>0.50</td>\n",
       "      <td>2.36</td>\n",
       "      <td>0.00</td>\n",
       "      <td>15.36</td>\n",
       "      <td>11.00</td>\n",
       "      <td>17.93</td>\n",
       "      <td>16.66</td>\n",
       "      <td>161.00</td>\n",
       "      <td>161.00</td>\n",
       "    </tr>\n",
       "    <tr>\n",
       "      <th>75%</th>\n",
       "      <td>2.00</td>\n",
       "      <td>5.21</td>\n",
       "      <td>14.50</td>\n",
       "      <td>2.50</td>\n",
       "      <td>3.46</td>\n",
       "      <td>0.00</td>\n",
       "      <td>21.60</td>\n",
       "      <td>18.00</td>\n",
       "      <td>24.53</td>\n",
       "      <td>16.67</td>\n",
       "      <td>231.00</td>\n",
       "      <td>232.00</td>\n",
       "    </tr>\n",
       "    <tr>\n",
       "      <th>max</th>\n",
       "      <td>9.00</td>\n",
       "      <td>95.43</td>\n",
       "      <td>99.50</td>\n",
       "      <td>8.00</td>\n",
       "      <td>29.73</td>\n",
       "      <td>66.50</td>\n",
       "      <td>154.39</td>\n",
       "      <td>119.00</td>\n",
       "      <td>117.32</td>\n",
       "      <td>49.74</td>\n",
       "      <td>263.00</td>\n",
       "      <td>263.00</td>\n",
       "    </tr>\n",
       "  </tbody>\n",
       "</table>\n",
       "</div>"
      ],
      "text/plain": [
       "       passenger_count  trip_distance  fare_amount      extra  tip_amount  \\\n",
       "count       494,663.00     494,663.00   494,663.00 494,663.00  494,663.00   \n",
       "mean              1.58           5.10        13.32       1.16        3.07   \n",
       "std               1.19           6.35        11.22       1.27        2.56   \n",
       "min               1.00           0.02         2.50       0.00        0.00   \n",
       "25%               1.00           1.71         6.50       0.00        1.76   \n",
       "50%               1.00           2.83         9.50       0.50        2.36   \n",
       "75%               2.00           5.21        14.50       2.50        3.46   \n",
       "max               9.00          95.43        99.50       8.00       29.73   \n",
       "\n",
       "       tolls_amount  total_amount  trip_duration  trip_average_speed  \\\n",
       "count    494,663.00    494,663.00     494,663.00          494,663.00   \n",
       "mean           0.43         20.32          13.91               20.39   \n",
       "std            1.70         14.50          11.07               10.54   \n",
       "min            0.00          3.80           1.00                0.02   \n",
       "25%            0.00         12.30           7.00               13.35   \n",
       "50%            0.00         15.36          11.00               17.93   \n",
       "75%            0.00         21.60          18.00               24.53   \n",
       "max           66.50        154.39         119.00              117.32   \n",
       "\n",
       "       tip_percentage  PULocationID  DOLocationID  \n",
       "count      494,663.00    494,663.00    494,663.00  \n",
       "mean            14.94        161.78        159.46  \n",
       "std              4.99         64.72         69.15  \n",
       "min              0.00          1.00          1.00  \n",
       "25%             13.04        114.00        107.00  \n",
       "50%             16.66        161.00        161.00  \n",
       "75%             16.67        231.00        232.00  \n",
       "max             49.74        263.00        263.00  "
      ]
     },
     "execution_count": 35,
     "metadata": {},
     "output_type": "execute_result"
    }
   ],
   "source": [
    "final_df.describe()"
   ]
  },
  {
   "cell_type": "code",
   "execution_count": 36,
   "id": "governing-guard",
   "metadata": {},
   "outputs": [
    {
     "data": {
      "text/plain": [
       "Normal speed    281351\n",
       "Slow Cab        167890\n",
       "Fast Cab         45422\n",
       "Name: speed, dtype: int64"
      ]
     },
     "execution_count": 36,
     "metadata": {},
     "output_type": "execute_result"
    }
   ],
   "source": [
    "final_df['speed'].value_counts()"
   ]
  },
  {
   "cell_type": "code",
   "execution_count": 37,
   "id": "attractive-picking",
   "metadata": {},
   "outputs": [
    {
     "data": {
      "text/plain": [
       "Normal Tip    380198\n",
       "Bad Tip        81242\n",
       "Great Tip      33223\n",
       "Name: tip_rating, dtype: int64"
      ]
     },
     "execution_count": 37,
     "metadata": {},
     "output_type": "execute_result"
    }
   ],
   "source": [
    "final_df['tip_rating'].value_counts()"
   ]
  },
  {
   "cell_type": "code",
   "execution_count": 38,
   "id": "republican-worthy",
   "metadata": {},
   "outputs": [
    {
     "data": {
      "text/plain": [
       "Ok business        215571\n",
       "Normal business    205359\n",
       "Good business       73733\n",
       "Name: fare_classification, dtype: int64"
      ]
     },
     "execution_count": 38,
     "metadata": {},
     "output_type": "execute_result"
    }
   ],
   "source": [
    "final_df['fare_classification'].value_counts()"
   ]
  },
  {
   "cell_type": "code",
   "execution_count": 39,
   "id": "improving-recovery",
   "metadata": {},
   "outputs": [
    {
     "data": {
      "text/plain": [
       "Normal distance    272317\n",
       "Short distance     161348\n",
       "Long distance       60998\n",
       "Name: distance_classified, dtype: int64"
      ]
     },
     "execution_count": 39,
     "metadata": {},
     "output_type": "execute_result"
    }
   ],
   "source": [
    "final_df['distance_classified'].value_counts()"
   ]
  },
  {
   "cell_type": "code",
   "execution_count": 40,
   "id": "specialized-advocate",
   "metadata": {},
   "outputs": [
    {
     "data": {
      "text/plain": [
       "Normal trip    244439\n",
       "Short trip     212077\n",
       "Long trip       38147\n",
       "Name: duration_classified, dtype: int64"
      ]
     },
     "execution_count": 40,
     "metadata": {},
     "output_type": "execute_result"
    }
   ],
   "source": [
    "final_df['duration_classified'].value_counts()"
   ]
  },
  {
   "cell_type": "code",
   "execution_count": null,
   "id": "preceding-visit",
   "metadata": {},
   "outputs": [],
   "source": []
  }
 ],
 "metadata": {
  "kernelspec": {
   "display_name": "Python 3",
   "language": "python",
   "name": "python3"
  },
  "language_info": {
   "codemirror_mode": {
    "name": "ipython",
    "version": 3
   },
   "file_extension": ".py",
   "mimetype": "text/x-python",
   "name": "python",
   "nbconvert_exporter": "python",
   "pygments_lexer": "ipython3",
   "version": "3.7.10"
  }
 },
 "nbformat": 4,
 "nbformat_minor": 5
}
