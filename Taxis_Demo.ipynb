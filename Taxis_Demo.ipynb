{
 "cells": [
  {
   "cell_type": "markdown",
   "id": "coral-faculty",
   "metadata": {},
   "source": [
    "## DATA IMPORT"
   ]
  },
  {
   "cell_type": "code",
   "execution_count": 1,
   "id": "brazilian-vector",
   "metadata": {},
   "outputs": [],
   "source": [
    "import pandas as pd\n",
    "import numpy as np\n",
    "from sklearn import preprocessing\n",
    "from sklearn import linear_model\n",
    "from sklearn.metrics import r2_score\n",
    "from sklearn.model_selection import train_test_split\n",
    "from sklearn.preprocessing import OneHotEncoder\n",
    "from sklearn.preprocessing import StandardScaler\n",
    "from sklearn.neighbors import KNeighborsRegressor\n",
    "\n",
    "\n",
    "# To make run all you ask in one cell, not only the last required\n",
    "from IPython.core.interactiveshell import InteractiveShell\n",
    "InteractiveShell.ast_node_interactivity = \"all\"\n",
    "# Format\n",
    "pd.options.display.float_format = '{:,.2f}'.format"
   ]
  },
  {
   "cell_type": "code",
   "execution_count": 2,
   "id": "organized-stage",
   "metadata": {},
   "outputs": [],
   "source": [
    "final_data = pd.read_csv('taxi_model.csv')"
   ]
  },
  {
   "cell_type": "markdown",
   "id": "hispanic-default",
   "metadata": {},
   "source": [
    "## DATA TRANSFORMATION"
   ]
  },
  {
   "cell_type": "code",
   "execution_count": 3,
   "id": "urban-dimension",
   "metadata": {},
   "outputs": [],
   "source": [
    "# separate x/y\n",
    "y = final_data['tip_amount']\n",
    "X= final_data.drop(['tip_amount'], axis=1)\n",
    "# Splitting into train set and test set.\n",
    "X_train, X_test, y_train, y_test = train_test_split(X, y, test_size=0.25, random_state=100)"
   ]
  },
  {
   "cell_type": "code",
   "execution_count": 4,
   "id": "multiple-vegetarian",
   "metadata": {},
   "outputs": [],
   "source": [
    "# TRAIN DATASET\n",
    "numerical_train = X_train.select_dtypes(include = np.number)\n",
    "# scaling standard scaler: make data normal distributed with mean=0 and std=1\n",
    "transformer = StandardScaler().fit(numerical_train)\n",
    "num_standardized = transformer.transform(numerical_train)\n",
    "train_num_stand = pd.DataFrame(num_standardized, columns=numerical_train.columns)\n",
    "# categorical\n",
    "categorical_train = X_train.select_dtypes(include = np.object)\n",
    "# encode categorical\n",
    "encoder = OneHotEncoder().fit(categorical_train)\n",
    "train_onehot = encoder.transform(categorical_train).toarray()\n",
    "enc = [columname for sublist in encoder.categories_ for columname in sublist]\n",
    "train_onehot = pd.DataFrame(train_onehot,columns=enc)\n",
    "# final train dataset\n",
    "numerical_train.reset_index(drop=True, inplace=True)\n",
    "train_onehot.reset_index(drop=True, inplace=True)\n",
    "X_train_preproc = pd.concat([train_num_stand,train_onehot], axis= 1)"
   ]
  },
  {
   "cell_type": "code",
   "execution_count": 5,
   "id": "union-broadcasting",
   "metadata": {},
   "outputs": [],
   "source": [
    "# TEST DATASET\n",
    "numerical_test = X_test.select_dtypes(include = np.number)\n",
    "# scaling standard scaler: make data normal distributed with mean=0 and std=1\n",
    "test_num_standardized = transformer.transform(numerical_test)\n",
    "test_num_stand = pd.DataFrame(test_num_standardized, columns=numerical_test.columns)\n",
    "# categorical\n",
    "categorical_test = X_test.select_dtypes(include = np.object)\n",
    "# encode categorical\n",
    "test_onehot = encoder.transform(categorical_test).toarray()\n",
    "enc = [columname for sublist in encoder.categories_ for columname in sublist]\n",
    "test_onehot = pd.DataFrame(test_onehot,columns=enc)\n",
    "# final test dataset\n",
    "X_test_preproc = pd.concat([test_num_stand,test_onehot], axis= 1)\n",
    "# X_test_preproc.head()"
   ]
  },
  {
   "cell_type": "code",
   "execution_count": 6,
   "id": "collective-embassy",
   "metadata": {},
   "outputs": [
    {
     "data": {
      "text/plain": [
       "Index(['passenger_count', 'trip_distance', 'extra', 'tolls_amount',\n",
       "       'trip_duration', 'trip_average_speed'],\n",
       "      dtype='object')"
      ]
     },
     "execution_count": 6,
     "metadata": {},
     "output_type": "execute_result"
    },
    {
     "data": {
      "text/html": [
       "<div>\n",
       "<style scoped>\n",
       "    .dataframe tbody tr th:only-of-type {\n",
       "        vertical-align: middle;\n",
       "    }\n",
       "\n",
       "    .dataframe tbody tr th {\n",
       "        vertical-align: top;\n",
       "    }\n",
       "\n",
       "    .dataframe thead th {\n",
       "        text-align: right;\n",
       "    }\n",
       "</style>\n",
       "<table border=\"1\" class=\"dataframe\">\n",
       "  <thead>\n",
       "    <tr style=\"text-align: right;\">\n",
       "      <th></th>\n",
       "      <th>passenger_count</th>\n",
       "      <th>trip_distance</th>\n",
       "      <th>extra</th>\n",
       "      <th>tolls_amount</th>\n",
       "      <th>trip_duration</th>\n",
       "      <th>trip_average_speed</th>\n",
       "    </tr>\n",
       "  </thead>\n",
       "  <tbody>\n",
       "    <tr>\n",
       "      <th>371207</th>\n",
       "      <td>2.00</td>\n",
       "      <td>1.61</td>\n",
       "      <td>2.50</td>\n",
       "      <td>0.00</td>\n",
       "      <td>4.00</td>\n",
       "      <td>24.14</td>\n",
       "    </tr>\n",
       "    <tr>\n",
       "      <th>2132346</th>\n",
       "      <td>1.00</td>\n",
       "      <td>3.03</td>\n",
       "      <td>0.00</td>\n",
       "      <td>0.00</td>\n",
       "      <td>18.00</td>\n",
       "      <td>10.09</td>\n",
       "    </tr>\n",
       "    <tr>\n",
       "      <th>3920829</th>\n",
       "      <td>1.00</td>\n",
       "      <td>3.46</td>\n",
       "      <td>0.00</td>\n",
       "      <td>0.00</td>\n",
       "      <td>17.00</td>\n",
       "      <td>12.21</td>\n",
       "    </tr>\n",
       "    <tr>\n",
       "      <th>1162309</th>\n",
       "      <td>1.00</td>\n",
       "      <td>1.29</td>\n",
       "      <td>2.50</td>\n",
       "      <td>0.00</td>\n",
       "      <td>7.00</td>\n",
       "      <td>11.04</td>\n",
       "    </tr>\n",
       "    <tr>\n",
       "      <th>807887</th>\n",
       "      <td>1.00</td>\n",
       "      <td>2.38</td>\n",
       "      <td>0.50</td>\n",
       "      <td>0.00</td>\n",
       "      <td>9.00</td>\n",
       "      <td>15.88</td>\n",
       "    </tr>\n",
       "  </tbody>\n",
       "</table>\n",
       "</div>"
      ],
      "text/plain": [
       "         passenger_count  trip_distance  extra  tolls_amount  trip_duration  \\\n",
       "371207              2.00           1.61   2.50          0.00           4.00   \n",
       "2132346             1.00           3.03   0.00          0.00          18.00   \n",
       "3920829             1.00           3.46   0.00          0.00          17.00   \n",
       "1162309             1.00           1.29   2.50          0.00           7.00   \n",
       "807887              1.00           2.38   0.50          0.00           9.00   \n",
       "\n",
       "         trip_average_speed  \n",
       "371207                24.14  \n",
       "2132346               10.09  \n",
       "3920829               12.21  \n",
       "1162309               11.04  \n",
       "807887                15.88  "
      ]
     },
     "execution_count": 6,
     "metadata": {},
     "output_type": "execute_result"
    }
   ],
   "source": [
    "numerical_test.columns\n",
    "numerical_test.head()"
   ]
  },
  {
   "cell_type": "code",
   "execution_count": 7,
   "id": "naked-damage",
   "metadata": {},
   "outputs": [
    {
     "data": {
      "text/plain": [
       "Index(['ratecodeID', 'day_part', 'weekday', 'passenger_load'], dtype='object')"
      ]
     },
     "execution_count": 7,
     "metadata": {},
     "output_type": "execute_result"
    },
    {
     "data": {
      "text/html": [
       "<div>\n",
       "<style scoped>\n",
       "    .dataframe tbody tr th:only-of-type {\n",
       "        vertical-align: middle;\n",
       "    }\n",
       "\n",
       "    .dataframe tbody tr th {\n",
       "        vertical-align: top;\n",
       "    }\n",
       "\n",
       "    .dataframe thead th {\n",
       "        text-align: right;\n",
       "    }\n",
       "</style>\n",
       "<table border=\"1\" class=\"dataframe\">\n",
       "  <thead>\n",
       "    <tr style=\"text-align: right;\">\n",
       "      <th></th>\n",
       "      <th>ratecodeID</th>\n",
       "      <th>day_part</th>\n",
       "      <th>weekday</th>\n",
       "      <th>passenger_load</th>\n",
       "    </tr>\n",
       "  </thead>\n",
       "  <tbody>\n",
       "    <tr>\n",
       "      <th>371207</th>\n",
       "      <td>Standard rate</td>\n",
       "      <td>Afternoon</td>\n",
       "      <td>Friday</td>\n",
       "      <td>Small group</td>\n",
       "    </tr>\n",
       "    <tr>\n",
       "      <th>2132346</th>\n",
       "      <td>Standard rate</td>\n",
       "      <td>Midday</td>\n",
       "      <td>Thursday</td>\n",
       "      <td>Individual passenger</td>\n",
       "    </tr>\n",
       "    <tr>\n",
       "      <th>3920829</th>\n",
       "      <td>Standard rate</td>\n",
       "      <td>Midday</td>\n",
       "      <td>Thursday</td>\n",
       "      <td>Individual passenger</td>\n",
       "    </tr>\n",
       "    <tr>\n",
       "      <th>1162309</th>\n",
       "      <td>Standard rate</td>\n",
       "      <td>Morning</td>\n",
       "      <td>Thursday</td>\n",
       "      <td>Individual passenger</td>\n",
       "    </tr>\n",
       "    <tr>\n",
       "      <th>807887</th>\n",
       "      <td>Standard rate</td>\n",
       "      <td>Night</td>\n",
       "      <td>Monday</td>\n",
       "      <td>Individual passenger</td>\n",
       "    </tr>\n",
       "  </tbody>\n",
       "</table>\n",
       "</div>"
      ],
      "text/plain": [
       "            ratecodeID   day_part   weekday        passenger_load\n",
       "371207   Standard rate  Afternoon    Friday           Small group\n",
       "2132346  Standard rate     Midday  Thursday  Individual passenger\n",
       "3920829  Standard rate     Midday  Thursday  Individual passenger\n",
       "1162309  Standard rate    Morning  Thursday  Individual passenger\n",
       "807887   Standard rate      Night    Monday  Individual passenger"
      ]
     },
     "execution_count": 7,
     "metadata": {},
     "output_type": "execute_result"
    }
   ],
   "source": [
    "categorical_test.columns\n",
    "categorical_test.head()"
   ]
  },
  {
   "cell_type": "markdown",
   "id": "swiss-lender",
   "metadata": {},
   "source": [
    "### MODELING AND VALIDATION"
   ]
  },
  {
   "cell_type": "code",
   "execution_count": 8,
   "id": "fixed-directive",
   "metadata": {},
   "outputs": [
    {
     "data": {
      "text/plain": [
       "LinearRegression()"
      ]
     },
     "execution_count": 8,
     "metadata": {},
     "output_type": "execute_result"
    },
    {
     "name": "stdout",
     "output_type": "stream",
     "text": [
      "1.753662109375\n",
      "0.6577712208355002\n"
     ]
    }
   ],
   "source": [
    "LR = linear_model.LinearRegression()\n",
    "LR.fit(X_train_preproc,y_train)\n",
    "y_pred= LR.predict(X_test_preproc)\n",
    "r2 = r2_score(y_test,y_pred)\n",
    "print(y_pred[0])\n",
    "print(r2)"
   ]
  },
  {
   "cell_type": "code",
   "execution_count": 9,
   "id": "completed-montreal",
   "metadata": {},
   "outputs": [
    {
     "data": {
      "text/plain": [
       "1.75"
      ]
     },
     "execution_count": 9,
     "metadata": {},
     "output_type": "execute_result"
    }
   ],
   "source": [
    "y_pred[0].round(2)"
   ]
  },
  {
   "cell_type": "code",
   "execution_count": null,
   "id": "extreme-looking",
   "metadata": {},
   "outputs": [],
   "source": []
  },
  {
   "cell_type": "code",
   "execution_count": 10,
   "id": "sunset-research",
   "metadata": {},
   "outputs": [],
   "source": [
    "# X_test_preproc.loc[0]"
   ]
  },
  {
   "cell_type": "code",
   "execution_count": 11,
   "id": "adjusted-merchandise",
   "metadata": {},
   "outputs": [],
   "source": [
    "def questions():\n",
    "    passenger = int(input(\"How many are you? \"))\n",
    "    distance = int(input(\"Where are you going? \"))\n",
    "    duration = int(input(\"How long do you want to take? \"))   \n",
    "    numerical_client = pd.DataFrame({\"passenger_count\":passenger,\n",
    "                 \"trip_distance\" : distance,\n",
    "                 \"extra\" : 0.30,\n",
    "                 \"tolls_amount\" : 0.50,\n",
    "                 \"trip_duration\": duration,\n",
    "                 \"trip_average_speed\":35}, index=[0])\n",
    "    \n",
    "    weekday = input(\"When are you going to travel? \")\n",
    "    day_part = input(\"What time? \")\n",
    "    categorical_client = pd.DataFrame({\"ratecodeID\":\"Standard rate\",\n",
    "                 \"day_part\" : day_part,\n",
    "                 \"weekday\" : weekday,\n",
    "                 \"passenger_load\":\"Small group\"}, index=[0])\n",
    "    # scaling standard scaler: make data normal distributed with mean=0 and std=1\n",
    "    test_num_standardized = transformer.transform(numerical_client)\n",
    "    test_num_stand = pd.DataFrame(test_num_standardized, columns=numerical_client.columns)\n",
    "    # categorical\n",
    "    # encode categorical\n",
    "    test_onehot = encoder.transform(categorical_client).toarray()\n",
    "    enc = [columname for sublist in encoder.categories_ for columname in sublist]\n",
    "    test_onehot = pd.DataFrame(test_onehot,columns=enc)\n",
    "    # final test dataset\n",
    "    X_test_preproc = pd.concat([test_num_stand,test_onehot], axis= 1)\n",
    "    # X_test_preproc.head()\n",
    "    \n",
    "    return print('Passengers have tipped an average amount $'+ str(LR.predict(X_test_preproc)[0].round(2))+' for this trip. Don\\'t forget to tip if you are happy with the service!')"
   ]
  },
  {
   "cell_type": "code",
   "execution_count": 23,
   "id": "sacred-racing",
   "metadata": {},
   "outputs": [
    {
     "name": "stdout",
     "output_type": "stream",
     "text": [
      "How many are you? 2\n",
      "Where are you going? 5\n",
      "How long do you want to take? 25\n",
      "When are you going to travel? Friday\n",
      "What time? Evening\n",
      "Passengers have tipped an average amount $3.8 for this trip. Don't forget to tip if you are happy with the service!\n"
     ]
    }
   ],
   "source": [
    "questions()"
   ]
  },
  {
   "cell_type": "code",
   "execution_count": null,
   "id": "civic-destiny",
   "metadata": {},
   "outputs": [],
   "source": []
  }
 ],
 "metadata": {
  "kernelspec": {
   "display_name": "Python 3",
   "language": "python",
   "name": "python3"
  },
  "language_info": {
   "codemirror_mode": {
    "name": "ipython",
    "version": 3
   },
   "file_extension": ".py",
   "mimetype": "text/x-python",
   "name": "python",
   "nbconvert_exporter": "python",
   "pygments_lexer": "ipython3",
   "version": "3.7.10"
  }
 },
 "nbformat": 4,
 "nbformat_minor": 5
}
